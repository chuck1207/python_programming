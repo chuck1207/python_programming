{
 "cells": [
  {
   "cell_type": "markdown",
   "metadata": {},
   "source": [
    "# 1번"
   ]
  },
  {
   "cell_type": "markdown",
   "metadata": {},
   "source": [
    "## 해당 문장에서 빈도수 상위 3개를 출력"
   ]
  },
  {
   "cell_type": "code",
   "execution_count": 1,
   "metadata": {},
   "outputs": [
    {
     "name": "stdout",
     "output_type": "stream",
     "text": [
      "and 3\n",
      "to 3\n",
      "a 2\n"
     ]
    }
   ],
   "source": [
    "from collections import Counter\n",
    "from collections import OrderedDict\n",
    "text = \"A press release is the quickest and easiest way to get free publicity. If well written, a press release can result in multiple published articles about your firm and its products. And that can mean new prospects contacting you asking you to sell to them. ….\".lower().split()\n",
    "\n",
    "c = Counter(text)\n",
    "\n",
    "def sort_by_key(t):\n",
    "    return t[1]\n",
    "\n",
    "n = 0\n",
    "for k,v in OrderedDict(sorted(c.items(),key=sort_by_key,reverse=True)).items():\n",
    "    print(k,v)\n",
    "    n = n+1\n",
    "    if n == 3:\n",
    "        break"
   ]
  },
  {
   "cell_type": "markdown",
   "metadata": {},
   "source": [
    "# 2번"
   ]
  },
  {
   "cell_type": "markdown",
   "metadata": {},
   "source": [
    "## 미생물이 한달에 두배씩 늘어난다고 한다. 그렇다고 하면 12개월이 지났을때 미생물의 수는 얼마나 되는지 구하라\n",
    "## 단 재귀함수를 사용할 것\n",
    "## 미생물의 개체수는 입력값으로 받을 것\n"
   ]
  },
  {
   "cell_type": "code",
   "execution_count": 4,
   "metadata": {},
   "outputs": [
    {
     "name": "stdout",
     "output_type": "stream",
     "text": [
      "최초 개체수를 입력하세요 : 5\n",
      "결과:  10240\n"
     ]
    }
   ],
   "source": [
    "def creature(n,k):\n",
    "    if k == 1:\n",
    "        return n*k\n",
    "    else :\n",
    "        return creature(n,k-1)*2\n",
    "\n",
    "\n",
    "n = int(input(\"최초 개체수를 입력하세요 : \"))\n",
    "k = 12\n",
    "print(\"결과: \",creature(n,k))"
   ]
  },
  {
   "cell_type": "markdown",
   "metadata": {},
   "source": [
    "# 3번 "
   ]
  },
  {
   "cell_type": "markdown",
   "metadata": {},
   "source": [
    "## 구구단을 계산하고 그 결과가 소수일때만 출력하는 함수를 만들자\n",
    "## 이때 소수임을 판별하는 is_prime라는 함수를 생성\n",
    "## 입력값을 받고 그 단수에 해당하는 단만 계산\n",
    "\n"
   ]
  },
  {
   "cell_type": "code",
   "execution_count": 9,
   "metadata": {},
   "outputs": [
    {
     "name": "stdout",
     "output_type": "stream",
     "text": [
      "구구단 몇 단을 계산할까?\n",
      "5\n",
      "구구단 5 단을 계산한다.\n",
      "5 x 1 = 5\n"
     ]
    }
   ],
   "source": [
    "print(\"구구단 몇 단을 계산할까?\")\n",
    "user_input = input()\n",
    "print(\"구구단\", user_input, \"단을 계산한다.\")\n",
    "int_input = int(user_input)\n",
    "\n",
    "def is_prime(x):\n",
    "    for i in range(2, x+1):\n",
    "        for j in range(2, x+1):\n",
    "            if i % j == 0:\n",
    "                if i == j:\n",
    "                    if x == i:\n",
    "                        return(x)\n",
    "                    else:\n",
    "                        continue\n",
    "                else:\n",
    "                    break\n",
    "\n",
    "\n",
    "for i in range(1, 10):\n",
    "    result = int_input * i\n",
    "    if result == is_prime(result):\n",
    "        print(user_input, \"x\", i, \"=\", result)\n",
    "\n"
   ]
  },
  {
   "cell_type": "markdown",
   "metadata": {},
   "source": [
    "# 4번"
   ]
  },
  {
   "cell_type": "markdown",
   "metadata": {},
   "source": [
    "# 업다운 숫자게임을 만들것\n",
    "# 숫자는 1~100까지만 입력될 것을 가정\n",
    "# 기회는 총 5번\n",
    "# 맞추면 정답임을 알리고 해당 숫자를 출력\n",
    "# 5번 안에 맞추지 못하면 실패임을 알리고 해당 숫자를 출력\n",
    "\n"
   ]
  },
  {
   "cell_type": "code",
   "execution_count": 10,
   "metadata": {},
   "outputs": [
    {
     "name": "stdout",
     "output_type": "stream",
     "text": [
      "숫자를 맞혀 보세요(1 ~ 100) 남은 기회 5회50\n",
      "숫자가 너무 작습니다.\n",
      "숫자를 맞혀 보세요(1 ~ 100) 남은 기회 4회75\n",
      "숫자가 너무 작습니다.\n",
      "숫자를 맞혀 보세요(1 ~ 100) 남은 기회 3회88\n",
      "숫자가 너무 큽니다.\n",
      "숫자를 맞혀 보세요(1 ~ 100) 남은 기회 2회81\n",
      "정답입니다. 입력한 숫자는 81 입니다\n"
     ]
    }
   ],
   "source": [
    "\n",
    "import random\n",
    "guess_number = random.randint(1,100)\n",
    "extra = 5\n",
    "user_input = int(input(\"숫자를 맞혀 보세요(1 ~ 100) 남은 기회 %d회\"%extra ))\n",
    "\n",
    "while (extra != 1):\n",
    "    if user_input > guess_number:\n",
    "        print(\"숫자가 너무 큽니다.\")\n",
    "        extra = extra - 1\n",
    "    elif user_input < guess_number:\n",
    "        print(\"숫자가 너무 작습니다.\")\n",
    "        extra = extra - 1\n",
    "    elif user_input == guess_number:\n",
    "        print(\"정답입니다. 입력한 숫자는 %d 입니다\" %guess_number)\n",
    "        break\n",
    "    user_input = int(input(\"숫자를 맞혀 보세요(1 ~ 100) 남은 기회 %d회\" % extra))\n",
    "else:\n",
    "    print(\"실패! 정답은 %d 입니다. \"%guess_number)\n"
   ]
  },
  {
   "cell_type": "code",
   "execution_count": 11,
   "metadata": {},
   "outputs": [
    {
     "name": "stdout",
     "output_type": "stream",
     "text": [
      "숫자를 맞혀 보세요(1 ~ 100) 남은 기회 5회100\n",
      "숫자가 너무 큽니다.\n",
      "숫자를 맞혀 보세요(1 ~ 100) 남은 기회 4회100\n",
      "숫자가 너무 큽니다.\n",
      "숫자를 맞혀 보세요(1 ~ 100) 남은 기회 3회100\n",
      "숫자가 너무 큽니다.\n",
      "숫자를 맞혀 보세요(1 ~ 100) 남은 기회 2회100\n",
      "숫자가 너무 큽니다.\n",
      "숫자를 맞혀 보세요(1 ~ 100) 남은 기회 1회100\n",
      "실패! 정답은 55 입니다. \n"
     ]
    }
   ],
   "source": [
    "\n",
    "import random\n",
    "guess_number = random.randint(1,100)\n",
    "extra = 5\n",
    "user_input = int(input(\"숫자를 맞혀 보세요(1 ~ 100) 남은 기회 %d회\"%extra ))\n",
    "\n",
    "while (extra != 1):\n",
    "    if user_input > guess_number:\n",
    "        print(\"숫자가 너무 큽니다.\")\n",
    "        extra = extra - 1\n",
    "    elif user_input < guess_number:\n",
    "        print(\"숫자가 너무 작습니다.\")\n",
    "        extra = extra - 1\n",
    "    elif user_input == guess_number:\n",
    "        print(\"정답입니다. 입력한 숫자는 %d 입니다\" %guess_number)\n",
    "        break\n",
    "    user_input = int(input(\"숫자를 맞혀 보세요(1 ~ 100) 남은 기회 %d회\" % extra))\n",
    "else:\n",
    "    print(\"실패! 정답은 %d 입니다. \"%guess_number)\n"
   ]
  },
  {
   "cell_type": "markdown",
   "metadata": {},
   "source": [
    "# 5번 "
   ]
  },
  {
   "cell_type": "markdown",
   "metadata": {},
   "source": [
    "## 10진수를 입력받음\n",
    "## 입력받은 10진수를 2진수로 변환\n",
    "## 변환한 2진수에서 1의 개수를 구하라"
   ]
  },
  {
   "cell_type": "code",
   "execution_count": 15,
   "metadata": {},
   "outputs": [
    {
     "name": "stdout",
     "output_type": "stream",
     "text": [
      "숫자를 입력하세요 :23\n",
      "2진수: 10111\n",
      "1의 개수:  4\n"
     ]
    }
   ],
   "source": [
    "\n",
    "decimal = int(input(\"숫자를 입력하세요 :\"))\n",
    "result=''\n",
    "while (decimal > 0):\n",
    "    remainder = decimal % 2\n",
    "    decimal = decimal // 2\n",
    "    result = str(remainder) + result\n",
    "\n",
    "from collections import Counter\n",
    "text = list(result)\n",
    "c = Counter(text)\n",
    "number1 = c[\"1\"]\n",
    "print(\"2진수:\",result)\n",
    "print(\"1의 개수: \",number1)\n"
   ]
  },
  {
   "cell_type": "markdown",
   "metadata": {},
   "source": [
    "# 6번 "
   ]
  },
  {
   "cell_type": "markdown",
   "metadata": {},
   "source": [
    "## 단어를 입력받는다\n",
    "## 그 단어의 첫문자와 끝문자를 출력\n"
   ]
  },
  {
   "cell_type": "code",
   "execution_count": 16,
   "metadata": {},
   "outputs": [
    {
     "name": "stdout",
     "output_type": "stream",
     "text": [
      "단어를 입력하세요 strawberry\n",
      "첫문자 :  s 끝문자 : y\n"
     ]
    }
   ],
   "source": [
    "def word_f_l(word):\n",
    "    result = []\n",
    "    for i in word:\n",
    "        result.append(i)\n",
    "    print(\"첫문자 : \",result.pop(0), \"끝문자 :\",result.pop())\n",
    "\n",
    "\n",
    "word = input(\"단어를 입력하세요 \")\n",
    "word_f_l(word)"
   ]
  },
  {
   "cell_type": "markdown",
   "metadata": {},
   "source": [
    "# 7번 "
   ]
  },
  {
   "cell_type": "markdown",
   "metadata": {},
   "source": [
    "## 메뉴판 프로그램 생성\n",
    "## 번호를 입력받음\n",
    "## 1,2을 입력하면 준비중을 알림\n",
    "## 그 외에는 잘못입력하였음을 알림\n",
    "## exit를 입력하면 프로그램을 종료\n"
   ]
  },
  {
   "cell_type": "code",
   "execution_count": 17,
   "metadata": {},
   "outputs": [
    {
     "name": "stdout",
     "output_type": "stream",
     "text": [
      "========MENU=========\n",
      "1번 메뉴\n",
      "2번 메뉴\n",
      "번호를 입력하세요 : 1\n",
      "준비중 입니다...\n",
      "========MENU=========\n",
      "1번 메뉴\n",
      "2번 메뉴\n",
      "번호를 입력하세요 : 1\n",
      "준비중 입니다...\n",
      "========MENU=========\n",
      "1번 메뉴\n",
      "2번 메뉴\n",
      "번호를 입력하세요 : 2\n",
      "준비중 입니다...\n",
      "========MENU=========\n",
      "1번 메뉴\n",
      "2번 메뉴\n",
      "번호를 입력하세요 : 3\n",
      "잘못 입력하셨습니다. \n",
      "========MENU=========\n",
      "1번 메뉴\n",
      "2번 메뉴\n",
      "번호를 입력하세요 : exit\n",
      "프로그램을 종료합니다...\n"
     ]
    }
   ],
   "source": [
    "\n",
    "def printf(x = 1):\n",
    "    while (x == 1):\n",
    "        print(\"========MENU=========\")\n",
    "        print(\"1번 메뉴\")\n",
    "        print(\"2번 메뉴\")\n",
    "        m = input(\"번호를 입력하세요 : \")\n",
    "        if m == \"1\" or m == \"2\":\n",
    "            print(\"준비중 입니다...\")\n",
    "        elif m == \"exit\":\n",
    "            print(\"프로그램을 종료합니다...\")\n",
    "            break\n",
    "        else:\n",
    "            print(\"잘못 입력하셨습니다. \")\n",
    "\n",
    "printf() #함수 실행"
   ]
  },
  {
   "cell_type": "markdown",
   "metadata": {},
   "source": [
    "## 8번"
   ]
  },
  {
   "cell_type": "markdown",
   "metadata": {},
   "source": [
    "## 토끼 모양을 그릴것\n",
    "\n"
   ]
  },
  {
   "cell_type": "code",
   "execution_count": 18,
   "metadata": {},
   "outputs": [
    {
     "name": "stdout",
     "output_type": "stream",
     "text": [
      "    /)/) \n",
      "   (-.- ) \n",
      " (\")(\")_o\n"
     ]
    }
   ],
   "source": [
    "print(\"    /)/)\",\"\\n\",\"  (-.- )\",\"\\n\",\"(\\\")(\\\")_o\"   )"
   ]
  },
  {
   "cell_type": "code",
   "execution_count": null,
   "metadata": {},
   "outputs": [],
   "source": []
  },
  {
   "cell_type": "code",
   "execution_count": null,
   "metadata": {},
   "outputs": [],
   "source": []
  },
  {
   "cell_type": "code",
   "execution_count": null,
   "metadata": {},
   "outputs": [],
   "source": []
  },
  {
   "cell_type": "code",
   "execution_count": null,
   "metadata": {},
   "outputs": [],
   "source": []
  },
  {
   "cell_type": "code",
   "execution_count": null,
   "metadata": {},
   "outputs": [],
   "source": []
  }
 ],
 "metadata": {
  "kernelspec": {
   "display_name": "Python 3",
   "language": "python",
   "name": "python3"
  },
  "language_info": {
   "codemirror_mode": {
    "name": "ipython",
    "version": 3
   },
   "file_extension": ".py",
   "mimetype": "text/x-python",
   "name": "python",
   "nbconvert_exporter": "python",
   "pygments_lexer": "ipython3",
   "version": "3.6.5"
  }
 },
 "nbformat": 4,
 "nbformat_minor": 2
}
