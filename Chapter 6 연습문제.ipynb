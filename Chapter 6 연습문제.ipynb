{
 "cells": [
  {
   "cell_type": "markdown",
   "metadata": {},
   "source": [
    "# [문제 1]"
   ]
  },
  {
   "cell_type": "code",
   "execution_count": 1,
   "metadata": {
    "scrolled": true
   },
   "outputs": [
    {
     "name": "stdout",
     "output_type": "stream",
     "text": [
      "========MENU=========\n",
      "1 프로그램 시작\n",
      "0 프로그램 종료\n",
      "번호를 입력하세요 : 1\n",
      "프로그램 실행 중 ...\n",
      "========MENU=========\n",
      "1 프로그램 시작\n",
      "0 프로그램 종료\n",
      "번호를 입력하세요 : 1\n",
      "프로그램 실행 중 ...\n",
      "========MENU=========\n",
      "1 프로그램 시작\n",
      "0 프로그램 종료\n",
      "번호를 입력하세요 : 0\n",
      "프로그램을 종료합니다...\n"
     ]
    }
   ],
   "source": [
    "def printf(x = 1): #매개변수 x를 1로 미리 입력해 둔다\n",
    "    while (x == 1):# while문을 통해 x가 1일때 반복되도록 설정\n",
    "        print(\"========MENU=========\")\n",
    "        print(\"1 프로그램 시작\")\n",
    "        print(\"0 프로그램 종료\")\n",
    "        x = int(input(\"번호를 입력하세요 : \")) #input함수를 통해 x값을 받음\n",
    "        if x == 1:#x가 1일때 프로그램 실행을 알림\n",
    "            print(\"프로그램 실행 중 ...\")\n",
    "        elif x == 0: # x가 0일때 프로그램 종료를 알림\n",
    "            print(\"프로그램을 종료합니다...\")\n",
    "\n",
    "printf() #함수 실행"
   ]
  },
  {
   "cell_type": "markdown",
   "metadata": {},
   "source": [
    "# [문제2]"
   ]
  },
  {
   "cell_type": "code",
   "execution_count": 2,
   "metadata": {},
   "outputs": [
    {
     "name": "stdout",
     "output_type": "stream",
     "text": [
      "문자열을 입력하세요 : strawberry\n",
      "찾을 문자를 입력하세요: r\n",
      "문자 r 은 [3, 8, 9] 번 째에 위치해 있습니다.\n"
     ]
    }
   ],
   "source": [
    "#결과값을 출력할 리스트를 생성\n",
    "result = []\n",
    "\n",
    "def strawberry(x):\n",
    "    # 입력받은 문자열을 하나하나의 리스트로 저장\n",
    "    x = list(x)\n",
    "    # 문자를 입력\n",
    "    n = input(\"찾을 문자를 입력하세요: \")\n",
    "    #범위는 문자열의 길이\n",
    "    for i in range(len(x)):\n",
    "        if x[i] == n:#리스트 내에 있는 문자가 찾으려는 문자와 일치하면\n",
    "            result.append(i+1) #result에 그 순서를 저장 i는 0부터 시작하므로 1을 더해줌\n",
    "    #가독성있게 출력\n",
    "    print(\"문자\",n,\"은\", result , \"번 째에 위치해 있습니다.\" )\n",
    "\n",
    "\n",
    "#문자열을 입력\n",
    "x = input(\"문자열을 입력하세요 : \")\n",
    "#함수 실행\n",
    "strawberry(x)"
   ]
  },
  {
   "cell_type": "markdown",
   "metadata": {},
   "source": [
    "# [문제 3]"
   ]
  },
  {
   "cell_type": "code",
   "execution_count": 3,
   "metadata": {},
   "outputs": [
    {
     "name": "stdout",
     "output_type": "stream",
     "text": [
      "숫자를 입력하세요5\n",
      "*****\n",
      " ****\n",
      "  ***\n",
      "   **\n",
      "    *\n"
     ]
    }
   ],
   "source": [
    "\n",
    "\n",
    "def star(x):\n",
    "    #반복문을 두번 써서 행과열을 구분\n",
    "    #첫번째 for문: 열\n",
    "    for i in range(1,x+1):\n",
    "        #두번째 for문: 행\n",
    "        for j in range(1,x+1):\n",
    "            if i<=j: #i가 1이므로 첫재 열은 모든행에 *을 출력\n",
    "                print(\"*\",end = \"\")\n",
    "            else:# i가 j보다 크면 띄어쓰기\n",
    "                print(\" \",end = \"\")\n",
    "        print()#줄바꿈실행\n",
    "    #두번째 for문이 끝나면 첫번째 for문에서 i값이 변경된 채로 두번째 for문이 다시 실행\n",
    "#숫자를 입력받음\n",
    "x = int(input(\"숫자를 입력하세요\"))\n",
    "#함수실행\n",
    "star(x)"
   ]
  }
 ],
 "metadata": {
  "kernelspec": {
   "display_name": "Python 3",
   "language": "python",
   "name": "python3"
  },
  "language_info": {
   "codemirror_mode": {
    "name": "ipython",
    "version": 3
   },
   "file_extension": ".py",
   "mimetype": "text/x-python",
   "name": "python",
   "nbconvert_exporter": "python",
   "pygments_lexer": "ipython3",
   "version": "3.6.5"
  }
 },
 "nbformat": 4,
 "nbformat_minor": 2
}
