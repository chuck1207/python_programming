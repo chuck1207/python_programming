{
 "cells": [
  {
   "cell_type": "markdown",
   "metadata": {},
   "source": [
    "# Chapter 05 함수"
   ]
  },
  {
   "cell_type": "markdown",
   "metadata": {},
   "source": [
    "## 01 함수기초\n",
    "## 02 함수 심화\n",
    "## 03 함수의 인수\n",
    "## 04 연습문제"
   ]
  },
  {
   "cell_type": "markdown",
   "metadata": {},
   "source": [
    "## 01 함수 기초"
   ]
  },
  {
   "cell_type": "markdown",
   "metadata": {},
   "source": [
    "### 1. 함수의 개념과 장점"
   ]
  },
  {
   "cell_type": "markdown",
   "metadata": {},
   "source": [
    "#### 함수란 어떤 일을 수행하는 코드의 덩어리, 또는 코드의 묶음이라고 표현 \n",
    "#### 이 묶음을 필요할때마다 호출"
   ]
  },
  {
   "cell_type": "markdown",
   "metadata": {},
   "source": [
    "### 2. 함수의 선언"
   ]
  },
  {
   "cell_type": "markdown",
   "metadata": {},
   "source": [
    "#### 함수는 다음과 같이 선언할 수 있다. "
   ]
  },
  {
   "cell_type": "code",
   "execution_count": null,
   "metadata": {},
   "outputs": [],
   "source": [
    "def 함수이름 (매개변수):\n",
    "    수행문 1\n",
    "    수행문 2\n",
    "    return (반환값)\n"
   ]
  },
  {
   "cell_type": "markdown",
   "metadata": {},
   "source": [
    "### 3. 함수의 실행 순서"
   ]
  },
  {
   "cell_type": "code",
   "execution_count": 2,
   "metadata": {},
   "outputs": [
    {
     "name": "stdout",
     "output_type": "stream",
     "text": [
      "사각형 x의 길이:  10\n",
      "사각형 y의 길이:  20\n",
      "사각형의 넓이:  200\n"
     ]
    }
   ],
   "source": [
    "def calculate_rectangle_area(x,y):\n",
    "    return x*y\n",
    "\n",
    "rectangle_x = 10\n",
    "rectangle_y = 20\n",
    "print(\"사각형 x의 길이: \",rectangle_x)\n",
    "print(\"사각형 y의 길이: \",rectangle_y)\n",
    "\n",
    "print(\"사각형의 넓이: \",calculate_rectangle_area(rectangle_x,rectangle_y))"
   ]
  },
  {
   "cell_type": "markdown",
   "metadata": {},
   "source": [
    "### 4. 함수의 형태 "
   ]
  },
  {
   "cell_type": "markdown",
   "metadata": {},
   "source": [
    "아래 1~4번의 차이는 무엇일까? \n",
    "1. 1번과 3번에는 매개변수가 없다 (즉, 매개변수를 따로 설정해줄 필요가 없다.)\n",
    "2. 1번과 2번에는 반환값이 없다. \n",
    "    코드를 input이라고 생각하면 Output인 반환값이 없는 것 "
   ]
  },
  {
   "cell_type": "code",
   "execution_count": 6,
   "metadata": {},
   "outputs": [
    {
     "name": "stdout",
     "output_type": "stream",
     "text": [
      "35\n",
      "35\n",
      "35\n"
     ]
    },
    {
     "data": {
      "text/plain": [
       "35"
      ]
     },
     "execution_count": 6,
     "metadata": {},
     "output_type": "execute_result"
    }
   ],
   "source": [
    "#1번\n",
    "def a_rectangle_area():       \n",
    "    print(5 * 7)\n",
    "#2번    \n",
    "def b_rectangle_area(x, y):    \n",
    "    print(x * y)\n",
    "#3번    \n",
    "def c_rectangle_area():      \n",
    "    return (5 * 7)\n",
    "#4번\n",
    "def d_rectangle_area(x , y):   \n",
    "    return (x * y)\n",
    "\n",
    "a_rectangle_area()\n",
    "b_rectangle_area(5, 7)\n",
    "print(c_rectangle_area())\n",
    "d_rectangle_area(5, 7)"
   ]
  },
  {
   "cell_type": "markdown",
   "metadata": {},
   "source": [
    "## 02 함수 심화 "
   ]
  },
  {
   "cell_type": "markdown",
   "metadata": {},
   "source": [
    "### 1. 함수의 호출 방식 "
   ]
  },
  {
   "cell_type": "markdown",
   "metadata": {},
   "source": [
    "함수를 호출하는 방식 두가지 \n",
    "\n",
    "1) 값에 의한 호출(call by value) \n",
    "\n",
    "    a) 함수에 인수를 넘길 때 값만 넘김\n",
    "    \n",
    "    b) 함수안의 인수값 변경 시, 호출된 변수에 영향을 주지 않음 \n",
    "    \n",
    "2) 참조호출(call by reference)\n",
    "\n",
    "    a) 함수에 인수를 넘길때 메모리 주소를 넘김\n",
    "    \n",
    "    b) 함수 안의 인수값 변경 시, 호출된 변수값도 변경됨"
   ]
  },
  {
   "cell_type": "markdown",
   "metadata": {},
   "source": [
    "#### 1) ham이라는 리스트를 매개변수로 함수를 실행\n",
    "#### 2) append함수를 활용해 리스트에 1을 추가 ( 이때, 주소를 공유하기 때문에 ham의 값도 변경)\n",
    "#### 3) eggs라는 리스트를 생성, 다만 이것은 함수내부에서만 생성된 리스트\n",
    "#### 그러므로 ham과 eggs의 주소 공유는 끊기고 새로운 eggs라는 리스트가 생성된것 \n",
    "#### 만약 eggs를 함수 바깥에서 다시 출력한다면 에러가 발생할 것 "
   ]
  },
  {
   "cell_type": "code",
   "execution_count": 12,
   "metadata": {},
   "outputs": [
    {
     "name": "stdout",
     "output_type": "stream",
     "text": [
      "eggs: [0, 1]\n",
      "ham: [0, 1]\n",
      "eggs: [2, 3]\n"
     ]
    }
   ],
   "source": [
    "def spam(eggs):           # 1)\n",
    "    eggs.append(1)      # 2)\n",
    "    print(\"eggs:\",eggs)\n",
    "    eggs = [2, 3]       #3)\n",
    "    print(\"ham:\",ham)\n",
    "    print(\"eggs:\",eggs)\n",
    "    \n",
    "    \n",
    "ham = [0]\n",
    "spam(ham)"
   ]
  },
  {
   "cell_type": "markdown",
   "metadata": {},
   "source": [
    "### 2. 변수의 사용범위"
   ]
  },
  {
   "cell_type": "markdown",
   "metadata": {},
   "source": [
    "1) 지역변수: 함수 안에서만 사용\n",
    "\n",
    "2) 전역변수: 프로그램 전체에서 사용"
   ]
  },
  {
   "cell_type": "markdown",
   "metadata": {},
   "source": [
    "#### 1) 지역변수 할당\n",
    "#### 2) 전역변수 할당\n",
    "#### 3) 지역변수를 함수 바깥에서 사용하니 에러가 발생"
   ]
  },
  {
   "cell_type": "code",
   "execution_count": 13,
   "metadata": {},
   "outputs": [
    {
     "name": "stdout",
     "output_type": "stream",
     "text": [
      "10\n",
      "In Function: 20\n",
      "In Main: 10\n"
     ]
    },
    {
     "ename": "NameError",
     "evalue": "name 't' is not defined",
     "output_type": "error",
     "traceback": [
      "\u001b[1;31m---------------------------------------------------------------------------\u001b[0m",
      "\u001b[1;31mNameError\u001b[0m                                 Traceback (most recent call last)",
      "\u001b[1;32m<ipython-input-13-2f0b93269a08>\u001b[0m in \u001b[0;36m<module>\u001b[1;34m()\u001b[0m\n\u001b[0;32m      7\u001b[0m \u001b[0mtest\u001b[0m\u001b[1;33m(\u001b[0m\u001b[0mx\u001b[0m\u001b[1;33m)\u001b[0m\u001b[1;33m\u001b[0m\u001b[0m\n\u001b[0;32m      8\u001b[0m \u001b[0mprint\u001b[0m\u001b[1;33m(\u001b[0m\u001b[1;34m\"In Main:\"\u001b[0m\u001b[1;33m,\u001b[0m \u001b[0mx\u001b[0m\u001b[1;33m)\u001b[0m\u001b[1;33m\u001b[0m\u001b[0m\n\u001b[1;32m----> 9\u001b[1;33m \u001b[0mprint\u001b[0m\u001b[1;33m(\u001b[0m\u001b[1;34m\"In Main:\"\u001b[0m\u001b[1;33m,\u001b[0m \u001b[0mt\u001b[0m\u001b[1;33m)\u001b[0m\u001b[1;33m\u001b[0m\u001b[0m\n\u001b[0m",
      "\u001b[1;31mNameError\u001b[0m: name 't' is not defined"
     ]
    }
   ],
   "source": [
    "def test(t):\n",
    "    print(x)\n",
    "    t = 20 # 1) \n",
    "    print(\"In Function:\", t)\n",
    "\n",
    "x = 10 # 2) \n",
    "test(x)\n",
    "print(\"In Main:\", x)\n",
    "print(\"In Main:\", t) #3)\n"
   ]
  },
  {
   "cell_type": "markdown",
   "metadata": {},
   "source": [
    "#### 만약 함수 안의 변수와 함수 밖의 변수가 같은 이름을 사용하기 위해서는 global이라는 키워드를 사용해준다. "
   ]
  },
  {
   "cell_type": "code",
   "execution_count": 21,
   "metadata": {},
   "outputs": [
    {
     "name": "stdout",
     "output_type": "stream",
     "text": [
      "In Function: 15\n",
      "In Main: 15\n"
     ]
    }
   ],
   "source": [
    "def test():\n",
    "    global t\n",
    "    t = 15 \n",
    "    print(\"In Function:\", t)\n",
    "\n",
    "t = 20 \n",
    "test()\n",
    "print(\"In Main:\", t) #3)\n"
   ]
  },
  {
   "cell_type": "markdown",
   "metadata": {},
   "source": [
    "### 3. 재귀 함수"
   ]
  },
  {
   "cell_type": "markdown",
   "metadata": {},
   "source": [
    "#### 함수가 자기 자신을 다시 부르는 함수 \n",
    "#### factorial함수"
   ]
  },
  {
   "cell_type": "code",
   "execution_count": 24,
   "metadata": {},
   "outputs": [
    {
     "data": {
      "text/plain": [
       "120"
      ]
     },
     "execution_count": 24,
     "metadata": {},
     "output_type": "execute_result"
    }
   ],
   "source": [
    "def factorial(n):\n",
    "    if n == 1:\n",
    "        return 1\n",
    "    else:\n",
    "        return n * factorial(n - 1)\n",
    "\n",
    "factorial(5)\n"
   ]
  },
  {
   "cell_type": "markdown",
   "metadata": {},
   "source": [
    "#### 재귀함수를 통해서 적금계산 가능 "
   ]
  },
  {
   "cell_type": "code",
   "execution_count": 25,
   "metadata": {},
   "outputs": [
    {
     "name": "stdout",
     "output_type": "stream",
     "text": [
      "만기 금액은 2529086.1869556876 원 입니다.\n"
     ]
    }
   ],
   "source": [
    "\n",
    "def money(m,c,r):#함수에 필요한 변수를 설정(기간, 금액, 연이자율)\n",
    "    #우선 1달만 적금을 넣을 경우를 계산\n",
    "    if m == 1:\n",
    "        return c + (c*r/12) #r/12을 하는 이유는 연이자율을 월별 이자율로 바꾸기위함\n",
    "    if m > 1:\n",
    "        return money(m-1,c,r) + c + (money(m-1,c,r) + c)*r/12\n",
    "    \n",
    "    # money(m-1,c,r) + c는 원금, [(money(m-1,c,r) + c)*r/12]은 이자\n",
    "\n",
    "#결과를 보기좋게 출력\n",
    "print(\"만기 금액은\",money(24,100000,0.05),\"원 입니다.\")\n"
   ]
  },
  {
   "cell_type": "markdown",
   "metadata": {},
   "source": [
    "## 03. 함수의 인수"
   ]
  },
  {
   "cell_type": "markdown",
   "metadata": {},
   "source": [
    "#### 1) 키워드 인수\n",
    "#### 함수에 입력되는 매개변수의 변수명을 사용하여 함수의 인수를 지정"
   ]
  },
  {
   "cell_type": "code",
   "execution_count": 26,
   "metadata": {},
   "outputs": [
    {
     "name": "stdout",
     "output_type": "stream",
     "text": [
      "Hello TEAMLAB, My name is Sungchul\n",
      "Hello TEAMLAB, My name is Sungchul\n"
     ]
    }
   ],
   "source": [
    "def print_something(my_name, your_name):\n",
    "    print(\"Hello {0}, My name is {1}\".format(your_name, my_name))\n",
    "\n",
    "print_something(\"Sungchul\", \"TEAMLAB\")\n",
    "print_something(your_name = \"TEAMLAB\", my_name = \"Sungchul\") # 매개변수의 변수명에 직접 인수를 대입\n"
   ]
  },
  {
   "cell_type": "markdown",
   "metadata": {},
   "source": [
    "#### 2) 디폴트 인수\n",
    "#### 매개변수에 기본값을 지정하여 사용하고 입력값이 없으면 기본값을 이용해 출력"
   ]
  },
  {
   "cell_type": "code",
   "execution_count": 28,
   "metadata": {},
   "outputs": [
    {
     "name": "stdout",
     "output_type": "stream",
     "text": [
      "Hello TEAMLAB, My name is Sungchul\n",
      "Hello TEAMLAB, My name is Sungchul\n"
     ]
    }
   ],
   "source": [
    "def print_something_2(my_name, your_name = \"TEAMLAB\"):\n",
    "    print(\"Hello {0}, My name is {1}\".format(your_name, my_name))\n",
    "\n",
    "print_something_2(\"Sungchul\", \"TEAMLAB\")\n",
    "print_something_2(\"Sungchul\") #your_naem에는 기본값이 있으므로 기본값을 출력\n"
   ]
  },
  {
   "cell_type": "markdown",
   "metadata": {},
   "source": [
    "#### 3) 가변인수\n",
    "#### 함수의 매개변수 개수가 정해지지 않고 진행해야 하는 경우 사용\n",
    "#### 가변인수는 *(asterisk)로 표현\n",
    "#### 튜플 형식으로 저장 \n",
    "#### 변수의 이름을 저장할 수 없다는 단점이 있다"
   ]
  },
  {
   "cell_type": "code",
   "execution_count": 34,
   "metadata": {},
   "outputs": [
    {
     "name": "stdout",
     "output_type": "stream",
     "text": [
      "args:  (3, 4, 5)\n",
      "1 2 (3, 4, 5)\n",
      "15\n"
     ]
    }
   ],
   "source": [
    "def asterisk_test(a, b, *args):\n",
    "    #매개변수가 3개이나 입력된 매개변수가 그 이상일 경우 args에 튜플형식으로 저장\n",
    "    print(\"args: \",args) #튜플 형태로 저장\n",
    "    print(a,b,args) #튜플 형태로 저장\n",
    "    return a + b + sum(args)\n",
    "\n",
    "print(asterisk_test(1, 2, 3, 4, 5))"
   ]
  },
  {
   "cell_type": "markdown",
   "metadata": {},
   "source": [
    "#### 4) 키워드 가변 인수 \n",
    "#### 변수의 이름을 저장할 수 없다는 단점을 보완 -> 딕셔너리\n",
    "#### *를 두개 사용하여 함수의 매개변수를 표시한다."
   ]
  },
  {
   "cell_type": "code",
   "execution_count": 36,
   "metadata": {},
   "outputs": [
    {
     "name": "stdout",
     "output_type": "stream",
     "text": [
      "{'first': 3, 'second': 4, 'third': 5}\n",
      "First value is 3\n",
      "Second value is 4\n",
      "Third value is 5\n"
     ]
    }
   ],
   "source": [
    "def kwargs_test(**kwargs):\n",
    "    print(kwargs) #kwargs에 딕셔너리 형태로 저장\n",
    "    print(\"First value is {first}\".format(**kwargs))\n",
    "    print(\"Second value is {second}\".format(**kwargs))\n",
    "    print(\"Third value is {third}\".format(**kwargs))\n",
    "\n",
    "#keyword: value형태로 값을 입력\n",
    "kwargs_test(first = 3, second = 4, third = 5)\n"
   ]
  },
  {
   "cell_type": "markdown",
   "metadata": {},
   "source": [
    "## 04 연습문제"
   ]
  },
  {
   "cell_type": "markdown",
   "metadata": {},
   "source": [
    "### 1번 "
   ]
  },
  {
   "cell_type": "markdown",
   "metadata": {},
   "source": [
    "### 사용자로부터 정수 n을 입력받아 재귀호출로 1~n까지의 합을 구하는 함수 sigma(n)를 정의하고 1~n 까지의 합을 구하는 프로그램을 작성"
   ]
  },
  {
   "cell_type": "code",
   "execution_count": 37,
   "metadata": {},
   "outputs": [
    {
     "name": "stdout",
     "output_type": "stream",
     "text": [
      "숫자를 입력하세요 : 10\n",
      "1부터  10 까지의 합은 55 입니다.\n"
     ]
    }
   ],
   "source": [
    "def sigma(n):\n",
    "    #만약 n이 1일 경우 값을 1로 반환\n",
    "    if n == 1:\n",
    "        return 1\n",
    "    else :\n",
    "        # 그 외의 경우는 sigma(n-1)과 n값의 합을 반환\n",
    "        #이는 1부터 n까지의 합을 의미함\n",
    "        sum1 = n + sigma(n-1)\n",
    "        return sum1\n",
    "n = int(input(\"숫자를 입력하세요 : \"))\n",
    "print(\"1부터 \",str(n),\"까지의 합은\",sigma(n),\"입니다.\")"
   ]
  },
  {
   "cell_type": "markdown",
   "metadata": {},
   "source": [
    "### 2번"
   ]
  },
  {
   "cell_type": "markdown",
   "metadata": {},
   "source": [
    "### 학생의 학번을 9999로 나눈 나머지를 학생의 임시 비밀번호로 부여할때,“studentID”라는 문자열 변수를 매개변수로 하여 비밀번호를 생성하는 함수를만들고 이를 출력하는 프로그램을 작성하세요."
   ]
  },
  {
   "cell_type": "code",
   "execution_count": 38,
   "metadata": {},
   "outputs": [
    {
     "name": "stdout",
     "output_type": "stream",
     "text": [
      "학번을 입력하세요 : 2013310007\n",
      "임시 비밀번호는 1358 입니다.\n"
     ]
    }
   ],
   "source": [
    "\n",
    "def password(studentID):\n",
    "    #입력받은 학번을 9999로 나눠준 나머지를 n에 할당\n",
    "    n = studentID % 9999\n",
    "    #n값을 반환\n",
    "    return (n)\n",
    "\n",
    "studentID = int(input(\"학번을 입력하세요 : \"))\n",
    "print(\"임시 비밀번호는\",password(studentID),\"입니다.\")"
   ]
  },
  {
   "cell_type": "markdown",
   "metadata": {},
   "source": [
    "### 3번"
   ]
  },
  {
   "cell_type": "markdown",
   "metadata": {},
   "source": [
    "### 음료수의 이름과 가격을 전달받아 음료수를 판매하는 자판기 함수를 생성."
   ]
  },
  {
   "cell_type": "markdown",
   "metadata": {},
   "source": [
    "▸ 금액이 부족하면 금액 부족을 안내할 것.\n",
    "\n",
    "▸ exit를 입력하면 프로그램 종료(프로그램 종료 함수: exit())\n",
    "\n",
    "▸ 사용자가 exit를 입력 할 때 까지 계속 실행\n",
    "\n",
    "▸ 사용자는 메뉴, exit 이외에 다른 문자를 입력하지 않는다고 가정합니다."
   ]
  },
  {
   "cell_type": "code",
   "execution_count": null,
   "metadata": {},
   "outputs": [],
   "source": [
    "def bending(x):\n",
    "    while (x != -1): # 거스름돈은 음수가 나올 수 없음\n",
    "        print(\" ==== MENU =====\")\n",
    "        print(\"coke : 1000원 soda : 800원 sparkling : 1200원\")\n",
    "        i = input(\"메뉴를 입력하세요(종료:exit)\")\n",
    "        if i == \"exit\": # exit가 나오면 함수 종료\n",
    "            break\n",
    "        else: #exit가 나오지 않으면 아래 조건문들을 반복\n",
    "            if i == \"sparkling\": #sparkling을 입력하면\n",
    "                if x > 1200:#1200원 이상남았을때\n",
    "                    x = x - 1200# 거스름돈에서 1200원을 빼고\n",
    "                    print(\"남은 돈 \", x, \"원\") #사고 남은 거스름돈을 출력\n",
    "                else:\n",
    "                    print(\"금액이 부족합니다.\")#돈이 모자랄때 금액이 모자람을 알림\n",
    "            elif i == \"coke\":# coke를 입력하면\n",
    "                if x > 1000:#1000원 이상남았을때\n",
    "                    x = x - 1000 #거스름돈에서 1000원을 빼고\n",
    "                    print(\"남은 돈 \", x, \"원\")#남은돈을 출력\n",
    "                else:#돈이 모자라면\n",
    "                    print(\"금액이 부족합니다.\")#금액이 부족함을 알림\n",
    "            elif i == \"soda\":# soda를 입력하면\n",
    "                if x > 800: #800원 이상남았다면\n",
    "                    x = x - 800 #거스름돈에서 800원을 빼고\n",
    "                    print(\"남은 돈 \", x, \"원\") #거스름돈을 출력\n",
    "                else:# 금액이 모자라다면\n",
    "                    print(\"금액이 부족합니다.\")#금액이 부족함을 알림\n",
    "    print(\"거스름돈 :\",x ,\"원\")#반복문이 종료되었다면 거스름돈을 출력\n",
    "\n",
    "money = int(input(\"돈을 넣어주세요 \")) #돈을 입력받음\n",
    "bending(money) #입력받은 금액으로 함수 시작"
   ]
  }
 ],
 "metadata": {
  "kernelspec": {
   "display_name": "Python 3",
   "language": "python",
   "name": "python3"
  },
  "language_info": {
   "codemirror_mode": {
    "name": "ipython",
    "version": 3
   },
   "file_extension": ".py",
   "mimetype": "text/x-python",
   "name": "python",
   "nbconvert_exporter": "python",
   "pygments_lexer": "ipython3",
   "version": "3.6.5"
  }
 },
 "nbformat": 4,
 "nbformat_minor": 2
}
