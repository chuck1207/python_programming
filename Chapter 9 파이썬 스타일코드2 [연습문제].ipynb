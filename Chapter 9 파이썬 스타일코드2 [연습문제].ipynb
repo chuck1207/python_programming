{
 "cells": [
  {
   "cell_type": "markdown",
   "metadata": {},
   "source": [
    "# 파이썬 스타일코드2"
   ]
  },
  {
   "cell_type": "markdown",
   "metadata": {},
   "source": [
    "## 문제1"
   ]
  },
  {
   "cell_type": "markdown",
   "metadata": {},
   "source": [
    "### 람다함수를 사용하여 3으로 나누어 떨어지면 'True', 이외에는 'False'를 출력하는 함수 f를 만들고 결과를 출력하세요 "
   ]
  },
  {
   "cell_type": "code",
   "execution_count": 3,
   "metadata": {},
   "outputs": [],
   "source": [
    "f = lambda x: True if x % 3 == 0 else False"
   ]
  },
  {
   "cell_type": "code",
   "execution_count": 6,
   "metadata": {},
   "outputs": [
    {
     "name": "stdout",
     "output_type": "stream",
     "text": [
      "True\n",
      "False\n"
     ]
    }
   ],
   "source": [
    "print(f(12))\n",
    "print(f(11))"
   ]
  },
  {
   "cell_type": "markdown",
   "metadata": {},
   "source": [
    "## 문제 2"
   ]
  },
  {
   "cell_type": "markdown",
   "metadata": {},
   "source": [
    "### 세 학생의 국어, 영어, 수학 점수를 나타내는 리스트 grade = [[92,68,70],[69,78,100],[90,81,55]를 선언하고 언패킹 기능과 zip함수를 이용하여 국어, 영어, 수학의 각 평균 점수를 출력해주는 프로그램을 작성하세요 "
   ]
  },
  {
   "cell_type": "code",
   "execution_count": null,
   "metadata": {},
   "outputs": [],
   "source": [
    "#### 이차원 리스트 선언"
   ]
  },
  {
   "cell_type": "code",
   "execution_count": 32,
   "metadata": {},
   "outputs": [],
   "source": [
    "grade = [[92,68,70],[69,78,100],[90,81,55]]\n",
    "subject = ['국어','영어','수학']"
   ]
  },
  {
   "cell_type": "markdown",
   "metadata": {},
   "source": [
    "#### 평균점수를 출력하는 프로그램 \n",
    "#### zip함수는 같은 인덱스를 가진 값들끼리 묶어준다. \n",
    "#### 즉 첫번째 반복문의 data는 인덱스가 0인 값들끼리 묶여 평균을 계산 (국어)\n",
    "#### 두번째 반복문의 data는 인덱스가 1인 값들끼리 묶여 평균을 계산 (영어)\n",
    "#### 세번째 반복문의 data는 인덱스가 2인 값들 끼리 묶여 평균을 계산 (수학)\n",
    "#### format함수를 이용하여 소수 3째자리에서 반올림해주고 가독성있게 출력"
   ]
  },
  {
   "cell_type": "code",
   "execution_count": 45,
   "metadata": {},
   "outputs": [
    {
     "name": "stdout",
     "output_type": "stream",
     "text": [
      "국어:83.67 영어:75.67 수학:75.00 "
     ]
    }
   ],
   "source": [
    "n = 0\n",
    "for data in zip(*grade):\n",
    "    # 이차원 리스트를 언패킹하고 zip함수를 이용해 \n",
    "    # 같은 인덱스들끼리 묶음 \n",
    "    print(\"{0}:{1:.2f}\".format(subject[n],sum(data)/3),end = \" \")\n",
    "    n = n+1"
   ]
  },
  {
   "cell_type": "markdown",
   "metadata": {},
   "source": [
    "### 팩토리얼을 계산하는 코드를 람다함수와 reduce()함수를 활용하여 표현 "
   ]
  },
  {
   "cell_type": "code",
   "execution_count": null,
   "metadata": {},
   "outputs": [],
   "source": [
    "from functools import reduce\n",
    "x = 10\n",
    "reduce(lambda x, y: x * y, list(range(x, 0, -1)))\n",
    "# 인자는 10에서 1까지 \n",
    "# lambda y는 인자들을 의미하고 x는 인자들의 결과를 의미\n",
    "# 즉 곱의 결과들이 x에 지속해서 축적되는것 \n",
    "# y가 6일때 x는 10*9*8*7인 것 "
   ]
  },
  {
   "cell_type": "markdown",
   "metadata": {},
   "source": [
    "### 벡터들의 길이가 일치하는지 판별하는 함수를 만들어라 "
   ]
  },
  {
   "cell_type": "markdown",
   "metadata": {},
   "source": [
    "#### 벡터의 크기는 리스트의 길이와 같은 의미"
   ]
  },
  {
   "cell_type": "code",
   "execution_count": 46,
   "metadata": {},
   "outputs": [
    {
     "name": "stdout",
     "output_type": "stream",
     "text": [
      "False\n",
      "True\n"
     ]
    }
   ],
   "source": [
    "def vector_size_check(*vector_variables):\n",
    "    return len(set([len(i) for i in vector_variables])) == 1\n",
    "# 리스트 컴프리헨션을 이용해 입력받은 리스트의 길이를 받는다 \n",
    "# 이때 리스트를 세트로 변환하여 만약 같은 길이라고 한다면 중복없이 하나만 생성될것 \n",
    "# 그래서 그 세트의 길이를 다시한번 재주어 그것이 1이라면 중복이 없음을 의미\n",
    "x = [10,20,30]\n",
    "y = [10,20,40,30]\n",
    "z = [1,2,4]\n",
    "print(vector_size_check(x,y))\n",
    "print(vector_size_check(x,z))"
   ]
  }
 ],
 "metadata": {
  "kernelspec": {
   "display_name": "Python 3",
   "language": "python",
   "name": "python3"
  },
  "language_info": {
   "codemirror_mode": {
    "name": "ipython",
    "version": 3
   },
   "file_extension": ".py",
   "mimetype": "text/x-python",
   "name": "python",
   "nbconvert_exporter": "python",
   "pygments_lexer": "ipython3",
   "version": "3.6.5"
  }
 },
 "nbformat": 4,
 "nbformat_minor": 2
}
