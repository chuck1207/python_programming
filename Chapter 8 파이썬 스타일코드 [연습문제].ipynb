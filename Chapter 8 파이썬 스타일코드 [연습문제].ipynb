{
 "cells": [
  {
   "cell_type": "markdown",
   "metadata": {},
   "source": [
    "# 리스트 컴프리헨션"
   ]
  },
  {
   "cell_type": "markdown",
   "metadata": {},
   "source": [
    "### [문제1] 리스트 컴프리헨션과 필터링을 사용하여 1부터 200까지 수 중 12또는 15로 나누어 떨어지는 숫자를 출력해주는 프로그램을 작성하세요"
   ]
  },
  {
   "cell_type": "code",
   "execution_count": 1,
   "metadata": {},
   "outputs": [
    {
     "name": "stdout",
     "output_type": "stream",
     "text": [
      "[12, 15, 24, 30, 36, 45, 48, 60, 72, 75, 84, 90, 96, 105, 108, 120, 132, 135, 144, 150, 156, 165, 168, 180, 192, 195]\n"
     ]
    }
   ],
   "source": [
    "#12로 나누어 떨어지는 경우를 리스트 컴프리헨션을 이용하고 세트로 저장한다.\n",
    "result1 = set([i for i in range(1,201) if i % 12 == 0 ])\n",
    "#15로 나누어 떨어지는 경우를 리스트 컴프리헨션을 이용하고 세트로 저장한다.\n",
    "result2 = set([j for j in range(1,201) if j % 15 == 0 ])\n",
    "# 두 경우의 합집합을 result에 저장\n",
    "result = result1.union(result2)\n",
    "# 다시 list형태로 변환\n",
    "result = list(result)\n",
    "# sort()함수를 이용해 정렬\n",
    "result.sort()\n",
    "# 결과 출력\n",
    "print(result)"
   ]
  },
  {
   "cell_type": "markdown",
   "metadata": {},
   "source": [
    "### [문제 2] 문자열 ingredient = '딸기, 바나나, 파인애플, 망고, 아보카도'와 같이 선언 및 초기화하고 문자열의 분리와 리스트 컴프리헨션을 사용해 재료를 결합해 만들 수 있는 모든 주스 이름을 출력해주는 프로그램 작성\n",
    "### 한가지 재료로 조합한 음료는 포함하지 않습니다.(예: 딸기딸기주스)\n"
   ]
  },
  {
   "cell_type": "markdown",
   "metadata": {},
   "source": [
    "### [심화] enumerate함수를 활용해 메뉴의 번호를 매기고 가독성있게 출력 "
   ]
  },
  {
   "cell_type": "code",
   "execution_count": 2,
   "metadata": {},
   "outputs": [
    {
     "name": "stdout",
     "output_type": "stream",
     "text": [
      "1번 메뉴: 딸기바나나 주스\n",
      "2번 메뉴: 딸기파인애플 주스\n",
      "3번 메뉴: 딸기망고 주스\n",
      "4번 메뉴: 딸기아보카도 주스\n",
      "5번 메뉴: 바나나딸기 주스\n",
      "6번 메뉴: 바나나파인애플 주스\n",
      "7번 메뉴: 바나나망고 주스\n",
      "8번 메뉴: 바나나아보카도 주스\n",
      "9번 메뉴: 파인애플딸기 주스\n",
      "10번 메뉴: 파인애플바나나 주스\n",
      "11번 메뉴: 파인애플망고 주스\n",
      "12번 메뉴: 파인애플아보카도 주스\n",
      "13번 메뉴: 망고딸기 주스\n",
      "14번 메뉴: 망고바나나 주스\n",
      "15번 메뉴: 망고파인애플 주스\n",
      "16번 메뉴: 망고아보카도 주스\n",
      "17번 메뉴: 아보카도딸기 주스\n",
      "18번 메뉴: 아보카도바나나 주스\n",
      "19번 메뉴: 아보카도파인애플 주스\n",
      "20번 메뉴: 아보카도망고 주스\n"
     ]
    }
   ],
   "source": [
    "ingredient = '딸기,바나나,파인애플,망고,아보카도' # 문자열 선언\n",
    "word = ingredient.split(\",\")# 과일이름을 리스트로 분할\n",
    "juice = [' 주스']\n",
    "\n",
    "#과일을 혼합해서 얻을 수 있는 모든 경우 중 중복되는 것을 제외하고 모든 경우를 리스트에 저장\n",
    "name = [i + j for i in word for j in word if not(i == j)]\n",
    "# 혼합된 과일에 주스라는 이름을 붙여줌\n",
    "result = [i + j for i in name for j in juice]\n",
    "#결과출력\n",
    "#print(result)\n",
    "\n",
    "#심화\n",
    "for i,v in enumerate(result):\n",
    "    print(\"{0}번 메뉴: {1}\".format(i+1,v))"
   ]
  }
 ],
 "metadata": {
  "kernelspec": {
   "display_name": "Python 3",
   "language": "python",
   "name": "python3"
  },
  "language_info": {
   "codemirror_mode": {
    "name": "ipython",
    "version": 3
   },
   "file_extension": ".py",
   "mimetype": "text/x-python",
   "name": "python",
   "nbconvert_exporter": "python",
   "pygments_lexer": "ipython3",
   "version": "3.6.5"
  }
 },
 "nbformat": 4,
 "nbformat_minor": 2
}
