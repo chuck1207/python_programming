{
 "cells": [
  {
   "cell_type": "markdown",
   "metadata": {},
   "source": [
    "# [문제 1]"
   ]
  },
  {
   "cell_type": "markdown",
   "metadata": {},
   "source": [
    "## 헬스클럼 회원을 뜻하는 Member 클래스를 [그림]과 같이 정의한 후 인스턴스를 생성하여 __str__(self) 함수를 이용하여 회원정보를 출력해주는 프로그램을 작성 "
   ]
  },
  {
   "cell_type": "code",
   "execution_count": 32,
   "metadata": {},
   "outputs": [],
   "source": [
    "import pandas as pd # 입력된 시간을 datetime형식으로 바꾸기 위한 모듈\n",
    "from datetime import timedelta # 만료일을 계산하기 위한 모듈\n",
    "\n",
    "\n",
    "class Member(object): #클래스 선언 \n",
    "    def __init__(self,name,phone,register,validity):#인스턴스 사용 \n",
    "        self.name = name # 이름 입력\n",
    "        self.phone = phone # 전화번호 입력\n",
    "        self.register = pd.to_datetime(register) #가입일 입력 및 datetime형식으로 변환\n",
    "        self.validity = validity #등록기간 입력 \n",
    "        self.expiration = self.register + timedelta(days = self.validity) #만료일 계산  \n",
    "    def __str__(self): #회원정보를 출력하는 함수 \n",
    "        return \"이름: %s \\n연락처: %s \\n만료일: %s\"%(self.name, self.phone, str(self.expiration))\n",
    "    "
   ]
  },
  {
   "cell_type": "code",
   "execution_count": 33,
   "metadata": {},
   "outputs": [],
   "source": [
    "junseo = Member(\"Junseo\",\"010-3499-9964\",\"2015-05-04\",50)"
   ]
  },
  {
   "cell_type": "code",
   "execution_count": 34,
   "metadata": {},
   "outputs": [
    {
     "name": "stdout",
     "output_type": "stream",
     "text": [
      "이름: Junseo \n",
      "연락처: 010-3499-9964 \n",
      "만료일: 2015-06-23 00:00:00\n"
     ]
    }
   ],
   "source": [
    "print(junseo)"
   ]
  }
 ],
 "metadata": {
  "kernelspec": {
   "display_name": "Python 3",
   "language": "python",
   "name": "python3"
  },
  "language_info": {
   "codemirror_mode": {
    "name": "ipython",
    "version": 3
   },
   "file_extension": ".py",
   "mimetype": "text/x-python",
   "name": "python",
   "nbconvert_exporter": "python",
   "pygments_lexer": "ipython3",
   "version": "3.6.5"
  }
 },
 "nbformat": 4,
 "nbformat_minor": 2
}
