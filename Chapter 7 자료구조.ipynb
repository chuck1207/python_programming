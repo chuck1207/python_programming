{
 "cells": [
  {
   "cell_type": "markdown",
   "metadata": {},
   "source": [
    "# Chapter 07 자료 구조 \n",
    "## 01 자료구조의 이해 \n",
    "## 02 스택과 큐\n",
    "## 03 튜플과 세트\n",
    "## 04 딕셔너리\n",
    "## 05 collection 모듈 \n",
    "## 06 Lab: 텍스트 마이닝 프로그램\n",
    "## 요약 \n",
    "## 연습문제"
   ]
  },
  {
   "cell_type": "code",
   "execution_count": null,
   "metadata": {},
   "outputs": [],
   "source": []
  },
  {
   "cell_type": "markdown",
   "metadata": {},
   "source": [
    "## 01 자료 구조의 이해 "
   ]
  },
  {
   "cell_type": "markdown",
   "metadata": {},
   "source": [
    "### 01. 자료 구조의 개념"
   ]
  },
  {
   "cell_type": "markdown",
   "metadata": {},
   "source": [
    "#### 자료구조: 어떤 데이터를 저장할 때,  데이터의 특징에 따라 컴퓨터에 효율적으로 정리하기 위한 데이터 저장 및 표현 방식\n",
    "#### (즉 데이터를 구조화 하는 것을 의미한다 그 종류로는 리스트, 스택, 큐, 세트, 딕셔너리, 세트 등이 있다. )\n",
    "#### 이러한 자료구조들로 인해 메모리를 효율적으로 사용하고(공간복잡도) 실행시간을 줄일 수 있게(시간복잡도) 해준다."
   ]
  },
  {
   "cell_type": "markdown",
   "metadata": {},
   "source": [
    "## 02 스택과 큐 "
   ]
  },
  {
   "cell_type": "markdown",
   "metadata": {},
   "source": [
    "### 01. 스택 \n",
    "#### 1) 스택을 간단히 표현하면 'Last In First Out'으로 정의 할 수 있다. \n",
    "#### 2) 마지막에 들어간 데이터가 가장 먼저 나오는 형태로 데이터의 저장 공간을 구현 \n",
    "#### 3) 스택에서 데이터를 저장하는 것을 푸시, 데이터를 추출하는 것을 팝이라고 함 \n",
    "#### 4) 스택을 사용하는 사례로는 수화물이 있다. 먼저 들어간 수화물이 먼저 배송되어야 하기때문에\n",
    "#### 5) 파이썬에서는 리스트를 사용하여 스택을 구현할 수 있음 "
   ]
  },
  {
   "cell_type": "code",
   "execution_count": 8,
   "metadata": {},
   "outputs": [
    {
     "name": "stdout",
     "output_type": "stream",
     "text": [
      "[1, 2, 3, 4, 5, 10]\n",
      "[1, 2, 3, 4, 5, 10, 20]\n",
      "20\n",
      "[1, 2, 3, 4, 5, 10]\n",
      "10\n"
     ]
    }
   ],
   "source": [
    "# 리스트라는 저장공간을 만든 후, append()함수로 데이터를 저장 push하고 추출pop한다. \n",
    "a = [1,2,3,4,5]\n",
    "a.append(10)\n",
    "print(a)\n",
    "a.append(20)\n",
    "print(a)\n",
    "print(a.pop())\n",
    "print(a)\n",
    "print(a.pop())"
   ]
  },
  {
   "cell_type": "markdown",
   "metadata": {},
   "source": [
    "#### 또 다른 예로는 입력한 텍스트의 역순을 추출하는 프로그램을 작성 "
   ]
  },
  {
   "cell_type": "code",
   "execution_count": 11,
   "metadata": {},
   "outputs": [
    {
     "name": "stdout",
     "output_type": "stream",
     "text": [
      "Input a word: python\n",
      "['p', 'y', 't', 'h', 'o', 'n']\n",
      "['n', 'o', 'h', 't', 'y', 'p']\n",
      "nohtyp\n"
     ]
    }
   ],
   "source": [
    "word = input(\"Input a word: \")\n",
    "world_list = list(word) # 입력된 단어를 리스트화\n",
    "print(world_list) #리스트화 된 단어를 출력\n",
    "\n",
    "result = []\n",
    "for _ in range(len(world_list)):\n",
    "    result.append(world_list.pop())\n",
    "\n",
    "print(result) # 스택을 활용한 결과 출력 \n",
    "print(word[::-1]) #리스트의 성질을 이용해 역순으로 출력"
   ]
  },
  {
   "cell_type": "markdown",
   "metadata": {},
   "source": [
    "### 02. 큐 "
   ]
  },
  {
   "cell_type": "markdown",
   "metadata": {},
   "source": [
    "#### 1. 먼저 들어간 데이터가 먼저 나오는 'First in First Out'의 메모리 구조를 가지는 저장 체계\n",
    "#### 2. 매표소 등의 실시간 시스템에 사용\n",
    "#### 3. 메모리 개념으로 볼때 큐는 스택보다 구현이 조금 더 복잡하다\n",
    "#### 4. 파이썬에서는 pop()에 0번째 값을 출력한다는 의미로 pop(0)을 사용하면 된다. "
   ]
  },
  {
   "cell_type": "code",
   "execution_count": 13,
   "metadata": {},
   "outputs": [
    {
     "name": "stdout",
     "output_type": "stream",
     "text": [
      "1\n",
      "2\n"
     ]
    }
   ],
   "source": [
    "a = [1,2,3,4,5]\n",
    "a.append(10)\n",
    "a.append(20)\n",
    "print(a.pop(0))\n",
    "print(a.pop(0))\n"
   ]
  },
  {
   "cell_type": "markdown",
   "metadata": {},
   "source": [
    "## 03 튜플과 세트 "
   ]
  },
  {
   "cell_type": "markdown",
   "metadata": {},
   "source": [
    "### 01. 튜플 "
   ]
  },
  {
   "cell_type": "markdown",
   "metadata": {},
   "source": [
    "#### 1) 리스트와 같은 개념이지만, 값을 변경하는 것이 불가능한 리스트 \n",
    "#### 2) 튜플의 선언과는 약간 다르다.\n",
    "#### 3) 튜플은 괄호를 이용하여  t =(1,2,3)과 같은 형태로 선언\n",
    "#### 4) 리스트에서 사용하는 연산, 인덱싱, 슬라이싱이 모두 동일하게 적용 \n",
    "#### 5) 만약 튜플의 값을 하나만 선언할때는 t = (1,)와 같은 형태로 선언 (comma가 없다면 컴퓨터는 t =1으로 이해할 것이다.)\n",
    "#### 6) 튜플은 학번이나 이름, 주민등록번화와 같이 변경되지 않아야 하는 정보 등에 사용된다."
   ]
  },
  {
   "cell_type": "code",
   "execution_count": 16,
   "metadata": {},
   "outputs": [
    {
     "name": "stdout",
     "output_type": "stream",
     "text": [
      "(1, 2, 3, 1, 2, 3) (1, 2, 3, 1, 2, 3)\n"
     ]
    },
    {
     "data": {
      "text/plain": [
       "3"
      ]
     },
     "execution_count": 16,
     "metadata": {},
     "output_type": "execute_result"
    }
   ],
   "source": [
    "t = (1,2,3)\n",
    "print(t+t,t*2)\n",
    "len(t)"
   ]
  },
  {
   "cell_type": "code",
   "execution_count": 17,
   "metadata": {},
   "outputs": [
    {
     "ename": "TypeError",
     "evalue": "'tuple' object does not support item assignment",
     "output_type": "error",
     "traceback": [
      "\u001b[1;31m---------------------------------------------------------------------------\u001b[0m",
      "\u001b[1;31mTypeError\u001b[0m                                 Traceback (most recent call last)",
      "\u001b[1;32m<ipython-input-17-c53026d12066>\u001b[0m in \u001b[0;36m<module>\u001b[1;34m()\u001b[0m\n\u001b[1;32m----> 1\u001b[1;33m \u001b[0mt\u001b[0m\u001b[1;33m[\u001b[0m\u001b[1;36m1\u001b[0m\u001b[1;33m]\u001b[0m \u001b[1;33m=\u001b[0m \u001b[1;36m5\u001b[0m\u001b[1;33m\u001b[0m\u001b[0m\n\u001b[0m",
      "\u001b[1;31mTypeError\u001b[0m: 'tuple' object does not support item assignment"
     ]
    }
   ],
   "source": [
    "# 변경해주려고 할때 아래와 같이 오류가 발생한다. \n",
    "t[1] = 5"
   ]
  },
  {
   "cell_type": "markdown",
   "metadata": {},
   "source": [
    "### 02. 세트 "
   ]
  },
  {
   "cell_type": "markdown",
   "metadata": {},
   "source": [
    "#### 1) 값을 순서없이 저장하면서 중복을 불허하는 자료형 \n",
    "#### 2) 문서 하나에 들어가 있는 단어 종류의 개수를 파악하기 용이 \n",
    "#### 3) 세트를 사용하기 위해서는 set()함수 안에 리스트나 튜플의 데이터를 넣음 "
   ]
  },
  {
   "cell_type": "code",
   "execution_count": 18,
   "metadata": {},
   "outputs": [
    {
     "data": {
      "text/plain": [
       "{1, 2, 3}"
      ]
     },
     "execution_count": 18,
     "metadata": {},
     "output_type": "execute_result"
    }
   ],
   "source": [
    "s = set([1,2,3,1,2,3])\n",
    "s"
   ]
  },
  {
   "cell_type": "markdown",
   "metadata": {},
   "source": [
    "#### 4) 세트는 삭제나 변경이 가능 "
   ]
  },
  {
   "cell_type": "code",
   "execution_count": 19,
   "metadata": {},
   "outputs": [
    {
     "name": "stdout",
     "output_type": "stream",
     "text": [
      "{1, 2, 3}\n",
      "{2, 3}\n",
      "{1, 2, 3, 4, 5, 6, 7}\n",
      "{1, 2, 4, 5, 6, 7}\n",
      "set()\n"
     ]
    }
   ],
   "source": [
    "s = set([1,2,3,1,2,3])\n",
    "s.add(1)\n",
    "print(s)\n",
    "s.remove(1)\n",
    "print(s)\n",
    "s.update([1,4,5,6,7])\n",
    "print(s)\n",
    "s.discard(3)\n",
    "print(s)\n",
    "s.clear()\n",
    "print(s)"
   ]
  },
  {
   "cell_type": "markdown",
   "metadata": {},
   "source": [
    "#### discard와 remove는 같은 것 처럼 보인다.\n",
    "#### 둘의 차이를 알아보자 "
   ]
  },
  {
   "cell_type": "code",
   "execution_count": 24,
   "metadata": {},
   "outputs": [
    {
     "name": "stdout",
     "output_type": "stream",
     "text": [
      "None\n"
     ]
    },
    {
     "ename": "KeyError",
     "evalue": "0",
     "output_type": "error",
     "traceback": [
      "\u001b[1;31m---------------------------------------------------------------------------\u001b[0m",
      "\u001b[1;31mKeyError\u001b[0m                                  Traceback (most recent call last)",
      "\u001b[1;32m<ipython-input-24-538b811c01d6>\u001b[0m in \u001b[0;36m<module>\u001b[1;34m()\u001b[0m\n\u001b[0;32m      1\u001b[0m \u001b[0ms\u001b[0m \u001b[1;33m=\u001b[0m \u001b[0mset\u001b[0m\u001b[1;33m(\u001b[0m\u001b[1;33m[\u001b[0m\u001b[1;36m1\u001b[0m\u001b[1;33m,\u001b[0m\u001b[1;36m2\u001b[0m\u001b[1;33m,\u001b[0m\u001b[1;36m3\u001b[0m\u001b[1;33m,\u001b[0m\u001b[1;36m1\u001b[0m\u001b[1;33m,\u001b[0m\u001b[1;36m2\u001b[0m\u001b[1;33m,\u001b[0m\u001b[1;36m3\u001b[0m\u001b[1;33m]\u001b[0m\u001b[1;33m)\u001b[0m\u001b[1;33m\u001b[0m\u001b[0m\n\u001b[0;32m      2\u001b[0m \u001b[0mprint\u001b[0m\u001b[1;33m(\u001b[0m\u001b[0ms\u001b[0m\u001b[1;33m.\u001b[0m\u001b[0mdiscard\u001b[0m\u001b[1;33m(\u001b[0m\u001b[1;36m0\u001b[0m\u001b[1;33m)\u001b[0m\u001b[1;33m)\u001b[0m\u001b[1;33m\u001b[0m\u001b[0m\n\u001b[1;32m----> 3\u001b[1;33m \u001b[0mprint\u001b[0m\u001b[1;33m(\u001b[0m\u001b[0ms\u001b[0m\u001b[1;33m.\u001b[0m\u001b[0mremove\u001b[0m\u001b[1;33m(\u001b[0m\u001b[1;36m0\u001b[0m\u001b[1;33m)\u001b[0m\u001b[1;33m)\u001b[0m\u001b[1;33m\u001b[0m\u001b[0m\n\u001b[0m",
      "\u001b[1;31mKeyError\u001b[0m: 0"
     ]
    }
   ],
   "source": [
    "s = set([1,2,3,1,2,3])\n",
    "print(s.discard(0)) \n",
    "print(s.remove(0))\n",
    "# discard는 세트안에 제거하려는 수가 없어도 실행되지만 remove는 없다면 에러가 발생한다. "
   ]
  },
  {
   "cell_type": "markdown",
   "metadata": {},
   "source": [
    "#### 파이썬의 세트는 수학의 집합과 마찬가지로 다양한 집합연산을 제공한다. 집합연산에는 교집합, 합집합, 차집합이 있다."
   ]
  },
  {
   "cell_type": "code",
   "execution_count": 26,
   "metadata": {},
   "outputs": [
    {
     "name": "stdout",
     "output_type": "stream",
     "text": [
      "{1, 2, 3, 4, 5, 6, 7}\n",
      "{1, 2, 3, 4, 5, 6, 7}\n",
      "{3, 4, 5}\n",
      "{3, 4, 5}\n",
      "{1, 2}\n",
      "{1, 2}\n"
     ]
    }
   ],
   "source": [
    "s1 = set([1,2,3,4,5])\n",
    "s2 = set([3,4,5,6,7])\n",
    "# s1과 s2의 합집합\n",
    "print(s1.union(s2))\n",
    "print(s1|s2)\n",
    "# s1과 s2의 교집합\n",
    "print(s1.intersection(s2))\n",
    "print(s1&s2)\n",
    "# s1과 s2의 차집합\n",
    "print(s1.difference(s2))\n",
    "print(s1-s2)"
   ]
  },
  {
   "cell_type": "markdown",
   "metadata": {},
   "source": [
    "## 04 딕셔너리 "
   ]
  },
  {
   "cell_type": "markdown",
   "metadata": {},
   "source": [
    "### 1. 딕셔너리의 개념 "
   ]
  },
  {
   "cell_type": "markdown",
   "metadata": {},
   "source": [
    "#### 1) 데이터의 유일한 구분자를 키(key)라는 이름으로 검색할 수 있게 하고, 실제 데이터를 값(value)라는 이름으로 쌍으로 저장하여 프로그래머가 쉽게 데이터를 찾을 수 있는 체계를 마련\n",
    "#### 2) 실생활에서 개인의 주민등록번호나 학교의 학번, 제품번호등을 하나의 데이터를 구분하는 키로 생각 할 수 있다. "
   ]
  },
  {
   "cell_type": "markdown",
   "metadata": {},
   "source": [
    "### 2. 파이썬에서의 딕셔너리 "
   ]
  },
  {
   "cell_type": "markdown",
   "metadata": {},
   "source": [
    "#### 1) 파이썬에서의 딕셔너리 선언은 매우 간단하다 \n",
    "####  변수 = {키:값, 키:값, 키:값 .... }\n",
    "#### 2) 여기서 중요한 것은 값에는 다양한 자료형이 들어갈 수 있다는 것 \n"
   ]
  },
  {
   "cell_type": "code",
   "execution_count": 28,
   "metadata": {},
   "outputs": [],
   "source": [
    "student_info = {20140012:'Sungchul', 20140059:'Jiyong',20140058:'JaeHong'}"
   ]
  },
  {
   "cell_type": "markdown",
   "metadata": {},
   "source": [
    "#### 3) 딕셔너리에서 값을 출력할때는 변수명[키]를 이용해 특정 값을 출력 가능 \n"
   ]
  },
  {
   "cell_type": "code",
   "execution_count": 30,
   "metadata": {},
   "outputs": [
    {
     "data": {
      "text/plain": [
       "'Sungchul'"
      ]
     },
     "execution_count": 30,
     "metadata": {},
     "output_type": "execute_result"
    }
   ],
   "source": [
    "student_info[20140012]"
   ]
  },
  {
   "cell_type": "markdown",
   "metadata": {},
   "source": [
    "#### 4) 데이터를 재할당해줄때는 변수명[재할당해줄 키 ] = 재할당해줄 데이터 "
   ]
  },
  {
   "cell_type": "code",
   "execution_count": 34,
   "metadata": {},
   "outputs": [
    {
     "name": "stdout",
     "output_type": "stream",
     "text": [
      "Janhyeok\n",
      "{20140012: 'Janhyeok', 20140059: 'Jiyong', 20140058: 'JaeHong', 20140039: 'Wonchul'}\n"
     ]
    }
   ],
   "source": [
    "student_info[20140012] = 'Janhyeok'\n",
    "print(student_info[20140012])\n",
    "student_info[20140039] = 'Wonchul'\n",
    "print(student_info)"
   ]
  },
  {
   "cell_type": "markdown",
   "metadata": {},
   "source": [
    "### 3. 딕셔너리의 함수 "
   ]
  },
  {
   "cell_type": "markdown",
   "metadata": {},
   "source": [
    "#### 1) 딕셔너리는 for문이나 if문과 함께 사용하여 다양한 코드를 작성할 수 있다. "
   ]
  },
  {
   "cell_type": "code",
   "execution_count": 35,
   "metadata": {},
   "outputs": [
    {
     "data": {
      "text/plain": [
       "{'America': 1, 'Korea': 82, 'China': 86, 'Japan': 81}"
      ]
     },
     "execution_count": 35,
     "metadata": {},
     "output_type": "execute_result"
    }
   ],
   "source": [
    "#딕셔너리 생성 (국가명과 국가 전화번호를 묶어 보여주는 코드)\n",
    "country_code = {}\n",
    "country_code = {\"America\":1,\"Korea\":82, \"China\":86, \"Japan\":81}\n",
    "country_code"
   ]
  },
  {
   "cell_type": "code",
   "execution_count": 36,
   "metadata": {},
   "outputs": [
    {
     "data": {
      "text/plain": [
       "dict_values([1, 82, 86, 81, 49])"
      ]
     },
     "execution_count": 36,
     "metadata": {},
     "output_type": "execute_result"
    }
   ],
   "source": [
    "#딕셔너리 key값 확인\n",
    "country_code.keys()\n",
    "#새로운 key값과 value값을 생성\n",
    "country_code[\"German\"] = 49\n",
    "country_code\n",
    "country_code.values()\n",
    "\n"
   ]
  },
  {
   "cell_type": "code",
   "execution_count": 37,
   "metadata": {},
   "outputs": [
    {
     "name": "stdout",
     "output_type": "stream",
     "text": [
      "key America\n",
      "Value 1\n",
      "key Korea\n",
      "Value 82\n",
      "key China\n",
      "Value 86\n",
      "key Japan\n",
      "Value 81\n",
      "key German\n",
      "Value 49\n"
     ]
    }
   ],
   "source": [
    "#key값과 value값을 모두 출력\n",
    "country_code.items()\n",
    "#가독성 있게 key값과 value값을 출력\n",
    "for k,v in country_code.items():\n",
    "    print(\"key\", k)\n",
    "    print(\"Value\", v)\n"
   ]
  },
  {
   "cell_type": "code",
   "execution_count": 41,
   "metadata": {},
   "outputs": [
    {
     "name": "stdout",
     "output_type": "stream",
     "text": [
      "True\n",
      "True\n"
     ]
    }
   ],
   "source": [
    "#딕셔너리의 key 중 \"Korea\"라는 단어가 있는지 확인\n",
    "print('Korea' in country_code.keys())\n",
    "#딕셔너리의 Value 중 82가 있는지 확인\n",
    "print(82 in country_code.values())"
   ]
  },
  {
   "cell_type": "markdown",
   "metadata": {},
   "source": [
    "## 05 collection 모듈 "
   ]
  },
  {
   "cell_type": "markdown",
   "metadata": {},
   "source": [
    "### 1. deque 모듈 "
   ]
  },
  {
   "cell_type": "markdown",
   "metadata": {},
   "source": [
    "#### 1) deque모듈은 스택과 큐를 지원한다. \n",
    "#### 2) 리스트와 비슷한 형식으로 데이터를 저장 "
   ]
  },
  {
   "cell_type": "code",
   "execution_count": 2,
   "metadata": {},
   "outputs": [
    {
     "name": "stdout",
     "output_type": "stream",
     "text": [
      "deque([0, 1, 2, 3, 4])\n"
     ]
    }
   ],
   "source": [
    "#collections의 deque를 import\n",
    "from collections import deque\n",
    "# 비어있는 deque를 생성\n",
    "deque_list = deque()\n",
    "# for문을 통해 0부터 4까지 deque_list에 추가해준다.\n",
    "for i in range(5):\n",
    "    deque_list.append(i)\n",
    "# deque_list를 출력\n",
    "print(deque_list)"
   ]
  },
  {
   "cell_type": "markdown",
   "metadata": {},
   "source": [
    "#### 이 다음 deque_list.pop()을 작성하면, 오른쪽 요소부터 하나씩 추출된다.\n",
    "####  즉, 스택처럼 나중에 넣은 값부터 하나씩 추출 가능 "
   ]
  },
  {
   "cell_type": "code",
   "execution_count": 3,
   "metadata": {
    "scrolled": true
   },
   "outputs": [
    {
     "name": "stdout",
     "output_type": "stream",
     "text": [
      "4\n",
      "3\n",
      "2\n"
     ]
    },
    {
     "data": {
      "text/plain": [
       "deque([0, 1])"
      ]
     },
     "execution_count": 3,
     "metadata": {},
     "output_type": "execute_result"
    }
   ],
   "source": [
    "# deque_list를 pop을 이용해서 출력\n",
    "print(deque_list.pop())\n",
    "# deque_list를 pop을 이용해서 출력\n",
    "print(deque_list.pop())\n",
    "# deque_list를 pop을 이용해서 출력\n",
    "print(deque_list.pop())\n",
    "# 최종 deque_list를 출력하여 확인\n",
    "deque_list"
   ]
  },
  {
   "cell_type": "markdown",
   "metadata": {},
   "source": [
    "#### 큐를 사용하려면 appendlift()함수로 새로운 값을 왼쪽부터 입력\n",
    "#### 먼저 들어간 값부터 출력될 수 있도록 한다. "
   ]
  },
  {
   "cell_type": "code",
   "execution_count": 4,
   "metadata": {},
   "outputs": [
    {
     "name": "stdout",
     "output_type": "stream",
     "text": [
      "deque([4, 3, 2, 1, 0])\n",
      "0\n",
      "1\n",
      "2\n"
     ]
    },
    {
     "data": {
      "text/plain": [
       "deque([4, 3])"
      ]
     },
     "execution_count": 4,
     "metadata": {},
     "output_type": "execute_result"
    }
   ],
   "source": [
    "#collections의 deque를 import\n",
    "from collections import deque\n",
    "# 비어있는 deque를 생성\n",
    "deque_list = deque()\n",
    "# for문을 통해 0부터 4까지 deque_list에 추가해준다.\n",
    "# 단 apeendleft를 사용하여 오른쪽부터 추가\n",
    "for i in range(5):\n",
    "    deque_list.appendleft(i)\n",
    "\n",
    "print(deque_list)\n",
    "\n",
    "print(deque_list.pop())\n",
    "\n",
    "print(deque_list.pop())\n",
    "\n",
    "print(deque_list.pop())\n",
    "\n",
    "deque_list"
   ]
  },
  {
   "cell_type": "markdown",
   "metadata": {},
   "source": [
    "#### deque 모듈은 연결 리스트의 특성을 지원\n",
    "#### 연결 리스트는 데이터를 저장할 때 요소의 값을 한 쪽으로 연결한 후, 요소의 다음값의 주소값을 저장하여 데이터를 연결하는 기법\n",
    "#### 이러한 특징 때문에 가능한 기능중 하나가 rotate() 함수이다. \n",
    "#### 기존 deque에 저장된 요소들의 값 인덱스를 바꾸는 기법 \n",
    "#### 연결 리스트는 양쪽 끝의 요소들을 연결할 수 있으므로 원형의 데이터 구조를 가진다. "
   ]
  },
  {
   "cell_type": "code",
   "execution_count": 5,
   "metadata": {},
   "outputs": [
    {
     "name": "stdout",
     "output_type": "stream",
     "text": [
      "deque([4, 3, 2, 1, 0])\n",
      "deque([1, 0, 4, 3, 2])\n",
      "deque([3, 2, 1, 0, 4])\n"
     ]
    }
   ],
   "source": [
    "from collections import deque\n",
    "# 비어있는 deque를 생성\n",
    "deque_list = deque()\n",
    "# for문을 통해 0부터 4까지 deque_list에 추가해준다.\n",
    "# 단 apeendleft를 사용하여 오른쪽부터 추가\n",
    "for i in range(5):\n",
    "    deque_list.appendleft(i)\n",
    "# deque_list를 확인\n",
    "\n",
    "print(deque_list) \n",
    "\n",
    "deque_list.rotate(2) # 인덱스 번호가 두개씩 밀렸다. (0 -> 2)\n",
    "\n",
    "print(deque_list)\n",
    "\n",
    "deque_list.rotate(2) # 인덱스 번호가 두개씩 밀렸다. (0 -> 2)\n",
    "\n",
    "print(deque_list)"
   ]
  },
  {
   "cell_type": "markdown",
   "metadata": {},
   "source": [
    "#### reversed()함수를 활용하여 기존과 반대로 데이터를 저장할 수도 있다. \n",
    "#### deque모듈은 기존 리스트에서 지원하는 함수도 지원한다. [extend(), extendleft()]"
   ]
  },
  {
   "cell_type": "code",
   "execution_count": 7,
   "metadata": {},
   "outputs": [
    {
     "name": "stdout",
     "output_type": "stream",
     "text": [
      "deque([7, 6, 5, 4, 0, 1, 2, 3])\n",
      "deque([3, 2, 1, 0, 4, 5, 6, 7, 5, 6, 7])\n",
      "deque([7, 6, 5, 3, 2, 1, 0, 4, 5, 6, 7, 5, 6, 7])\n"
     ]
    }
   ],
   "source": [
    "\n",
    "print(deque(reversed(deque_list)))\n",
    "\n",
    "deque_list.extend([5,6,7])\n",
    "print(deque_list)\n",
    "\n",
    "deque_list.extendleft([5,6,7])\n",
    "print(deque_list)\n"
   ]
  },
  {
   "cell_type": "code",
   "execution_count": null,
   "metadata": {},
   "outputs": [],
   "source": []
  },
  {
   "cell_type": "markdown",
   "metadata": {},
   "source": [
    "### 3. OrderedDict 모듈  "
   ]
  },
  {
   "cell_type": "markdown",
   "metadata": {},
   "source": [
    "#### 순서를 가진 딕셔너리 객체 \n",
    "#### 기존의 딕셔너리는 순서를 보장하지 않는 객체이다. "
   ]
  },
  {
   "cell_type": "code",
   "execution_count": 8,
   "metadata": {},
   "outputs": [
    {
     "name": "stdout",
     "output_type": "stream",
     "text": [
      "x 100\n",
      "l 500\n",
      "y 200\n",
      "z 300\n"
     ]
    }
   ],
   "source": [
    "#순서가 보장되지 않았다. \n",
    "d = {}\n",
    "d['x'] = 100\n",
    "d['l'] = 500\n",
    "d['y'] = 200\n",
    "d['z'] = 300\n",
    "\n",
    "for k, v in d.items():\n",
    "    print(k, v)\n"
   ]
  },
  {
   "cell_type": "markdown",
   "metadata": {},
   "source": [
    "#### orderedDict을 사용한다면 value(값) 순서대로 저장 "
   ]
  },
  {
   "cell_type": "code",
   "execution_count": 9,
   "metadata": {},
   "outputs": [
    {
     "name": "stdout",
     "output_type": "stream",
     "text": [
      "x 100\n",
      "y 200\n",
      "z 300\n",
      "l 500\n"
     ]
    }
   ],
   "source": [
    "from collections import OrderedDict         #OrderedDict 모듈 선언\n",
    "\n",
    "d = OrderedDict()\n",
    "d['x'] = 100\n",
    "d['y'] = 200\n",
    "d['z'] = 300\n",
    "d['l'] = 500\n",
    "\n",
    "for k, v in d.items():\n",
    "    print(k, v)\n"
   ]
  },
  {
   "cell_type": "markdown",
   "metadata": {},
   "source": [
    "#### key값으로 정렬을 해주기 위해서는 아래와 같이 실행한다. "
   ]
  },
  {
   "cell_type": "code",
   "execution_count": 10,
   "metadata": {},
   "outputs": [
    {
     "name": "stdout",
     "output_type": "stream",
     "text": [
      "l 500\n",
      "x 100\n",
      "y 200\n",
      "z 300\n"
     ]
    }
   ],
   "source": [
    "#key값을 기준으로 정렬하는 함수를 생성 \n",
    "def sort_by_key(t):\n",
    "    return t[0]\n",
    "\n",
    "from collections import OrderedDict         #OrderedDict 모듈 선언\n",
    "\n",
    "d = dict()\n",
    "d['x'] = 100\n",
    "d['y'] = 200\n",
    "d['z'] = 300\n",
    "d['l'] = 500\n",
    "#OrderedDict(키값대로 정렬).item()\n",
    "for k, v in OrderedDict(sorted(d.items(), key=sort_by_key)).items():\n",
    "    print(k, v)\n"
   ]
  },
  {
   "cell_type": "markdown",
   "metadata": {},
   "source": [
    "#### 이때 t[0]은 t의 인덱스값이 0인 것들을 의미, 즉 key값을 의미한다.\n",
    "#### 만약 return값을 t[1]으로 바꿔준다면 value값순서대로 정렬"
   ]
  },
  {
   "cell_type": "markdown",
   "metadata": {},
   "source": [
    "### 3. defaultdict 모듈 "
   ]
  },
  {
   "cell_type": "markdown",
   "metadata": {},
   "source": [
    "#### 딕셔너리를 생성할때 키에 기본값을 지정하는 방법 \n",
    "#### 새로운 키를 생성할 때 별다른 조치 없이 신규값을 생성할 수 있음 \n",
    "#### 실제 딕셔너리에서는 키를 생성하지 않고 키값을 호출하려할때 오류가 발생한다. "
   ]
  },
  {
   "cell_type": "code",
   "execution_count": 11,
   "metadata": {},
   "outputs": [
    {
     "ename": "KeyError",
     "evalue": "'first'",
     "output_type": "error",
     "traceback": [
      "\u001b[1;31m---------------------------------------------------------------------------\u001b[0m",
      "\u001b[1;31mKeyError\u001b[0m                                  Traceback (most recent call last)",
      "\u001b[1;32m<ipython-input-11-3b4ee8f5b4c3>\u001b[0m in \u001b[0;36m<module>\u001b[1;34m()\u001b[0m\n\u001b[0;32m      1\u001b[0m \u001b[0md\u001b[0m \u001b[1;33m=\u001b[0m \u001b[0mdict\u001b[0m\u001b[1;33m(\u001b[0m\u001b[1;33m)\u001b[0m\u001b[1;33m\u001b[0m\u001b[0m\n\u001b[1;32m----> 2\u001b[1;33m \u001b[0mprint\u001b[0m\u001b[1;33m(\u001b[0m\u001b[0md\u001b[0m\u001b[1;33m[\u001b[0m\u001b[1;34m\"first\"\u001b[0m\u001b[1;33m]\u001b[0m\u001b[1;33m)\u001b[0m\u001b[1;33m\u001b[0m\u001b[0m\n\u001b[0m",
      "\u001b[1;31mKeyError\u001b[0m: 'first'"
     ]
    }
   ],
   "source": [
    "d = dict()\n",
    "print(d[\"first\"])\n"
   ]
  },
  {
   "cell_type": "markdown",
   "metadata": {},
   "source": [
    "#### defaultdict모듈을 활용했을 경우 \n",
    "#### 어떤 키가 들어오더라도 처음 값은 전부 0으로 설장하겠다는 뜻"
   ]
  },
  {
   "cell_type": "code",
   "execution_count": 12,
   "metadata": {},
   "outputs": [
    {
     "name": "stdout",
     "output_type": "stream",
     "text": [
      "0\n"
     ]
    }
   ],
   "source": [
    "from collections import defaultdict\n",
    "\n",
    "d = defaultdict(lambda: 0)          # Default 값을 0으로 설정\n",
    "print(d[\"first\"])\n"
   ]
  },
  {
   "cell_type": "markdown",
   "metadata": {},
   "source": [
    "#### 이외에도 defaultdict의 초기값은 리스트형태로 설정할 수 있다. "
   ]
  },
  {
   "cell_type": "code",
   "execution_count": 13,
   "metadata": {},
   "outputs": [
    {
     "name": "stdout",
     "output_type": "stream",
     "text": [
      "dict_items([('yellow', [1, 3]), ('blue', [2, 4]), ('red', [1])])\n"
     ]
    },
    {
     "data": {
      "text/plain": [
       "[('blue', [2, 4]), ('red', [1]), ('yellow', [1, 3])]"
      ]
     },
     "execution_count": 13,
     "metadata": {},
     "output_type": "execute_result"
    }
   ],
   "source": [
    "from collections import defaultdict\n",
    "\n",
    "s = [('yellow', 1), ('blue', 2), ('yellow', 3), ('blue', 4), ('red', 1)]\n",
    "d = defaultdict(list)\n",
    "for k, v in s:\n",
    "    d[k].append(v)\n",
    "    #key값을 defaultdict로 만들고 같은 key를 가진 값들끼리 리스트로 만들어 사전을 구성\n",
    "\n",
    "print(d.items())\n",
    "[('blue', [2, 4]), ('red', [1]), ('yellow', [1, 3])]\n"
   ]
  },
  {
   "cell_type": "markdown",
   "metadata": {},
   "source": [
    "### 4. Counter 모듈 "
   ]
  },
  {
   "cell_type": "markdown",
   "metadata": {},
   "source": [
    "#### 시퀀스 자료형의 데이터 값의 개수를 딕셔너리 형태로 반환하는 자료구조 \n",
    "#### 리스트나 문자열과 같은 시퀀스 자료형 안의 값 중 같은 것이 몇개 있는지 반환 "
   ]
  },
  {
   "cell_type": "code",
   "execution_count": 14,
   "metadata": {},
   "outputs": [
    {
     "name": "stdout",
     "output_type": "stream",
     "text": [
      "['g', 'a', 'l', 'l', 'a', 'h', 'a', 'd']\n",
      "Counter({'a': 3, 'l': 2, 'g': 1, 'h': 1, 'd': 1})\n"
     ]
    },
    {
     "data": {
      "text/plain": [
       "3"
      ]
     },
     "execution_count": 14,
     "metadata": {},
     "output_type": "execute_result"
    }
   ],
   "source": [
    "from collections import Counter\n",
    "\n",
    "text = list(\"gallahad\")\n",
    "print(text)\n",
    "\n",
    "c = Counter(text)\n",
    "print(c)\n",
    "\n",
    "c[\"a\"]"
   ]
  },
  {
   "cell_type": "code",
   "execution_count": 19,
   "metadata": {},
   "outputs": [
    {
     "data": {
      "text/plain": [
       "Counter({'a': 2,\n",
       "         'press': 2,\n",
       "         'release': 2,\n",
       "         'is': 1,\n",
       "         'the': 1,\n",
       "         'quickest': 1,\n",
       "         'easist': 1,\n",
       "         'way': 1,\n",
       "         'to': 3,\n",
       "         'get': 1,\n",
       "         'free': 1,\n",
       "         'publicity.if': 1,\n",
       "         'well': 1,\n",
       "         'written,': 1,\n",
       "         'can': 2,\n",
       "         'result': 1,\n",
       "         'in': 1,\n",
       "         'multiple': 1,\n",
       "         'published': 1,\n",
       "         'articles': 1,\n",
       "         'about': 1,\n",
       "         'your': 1,\n",
       "         'firm': 1,\n",
       "         'and': 2,\n",
       "         'its': 1,\n",
       "         'products.': 1,\n",
       "         'that': 1,\n",
       "         'mean': 1,\n",
       "         'new': 1,\n",
       "         'prospects': 1,\n",
       "         'contacting': 1,\n",
       "         'you': 2,\n",
       "         'asking': 1,\n",
       "         'sell': 1,\n",
       "         'them.a.': 1})"
      ]
     },
     "execution_count": 19,
     "metadata": {},
     "output_type": "execute_result"
    }
   ],
   "source": [
    "\n",
    "text=\"\"\"A press release is the quickest easist way to get free\n",
    "publicity.If well written, a press release can result in multiple published\n",
    "articles about your firm and its products. And that can mean new prospects\n",
    "contacting you asking you to sell to them.a.\"\"\".lower().split()\n",
    "Counter(text)\n"
   ]
  },
  {
   "cell_type": "code",
   "execution_count": 20,
   "metadata": {},
   "outputs": [
    {
     "name": "stdout",
     "output_type": "stream",
     "text": [
      "Counter({'red': 4, 'blue': 2})\n",
      "['red', 'red', 'red', 'red', 'blue', 'blue']\n",
      "Counter({'dogs': 8, 'cats': 4})\n",
      "['cats', 'cats', 'cats', 'cats', 'dogs', 'dogs', 'dogs', 'dogs', 'dogs', 'dogs', 'dogs', 'dogs']\n"
     ]
    },
    {
     "data": {
      "text/plain": [
       "Counter({'a': 3, 'b': 0, 'c': -3, 'd': -6})"
      ]
     },
     "execution_count": 20,
     "metadata": {},
     "output_type": "execute_result"
    }
   ],
   "source": [
    "c = Counter({'red' : 4, 'blue' : 2})\n",
    "print(c)\n",
    "print(list(c.elements()))\n",
    "\n",
    "\n",
    "from collections import Counter\n",
    "\n",
    "c = Counter(cats = 4, dogs = 8)\n",
    "print(c)\n",
    "print(list(c.elements()))\n",
    "\n",
    "\n",
    "from collections import Counter\n",
    "\n",
    "c = Counter(a = 4, b = 2, c = 0, d = -2)\n",
    "d = Counter(a = 1, b = 2, c = 3, d = 4)\n",
    "c.subtract(d)\n",
    "c\n"
   ]
  },
  {
   "cell_type": "markdown",
   "metadata": {},
   "source": [
    "### 5. namedtuple 모듈 "
   ]
  },
  {
   "cell_type": "markdown",
   "metadata": {},
   "source": [
    "#### 튜플의 형태로 데이터 구조체를 저장하는 방법\n",
    "#### 다양한 정보를 하나의 리스트로 만들어 구성 \n",
    "#### 다음코드를 확인해보자"
   ]
  },
  {
   "cell_type": "code",
   "execution_count": 2,
   "metadata": {},
   "outputs": [
    {
     "name": "stdout",
     "output_type": "stream",
     "text": [
      "Point(x=11, y=22)\n",
      "11 22\n",
      "33\n",
      "Point(x=11, y=22)\n",
      "11 22\n",
      "33\n"
     ]
    }
   ],
   "source": [
    "from collections import namedtuple\n",
    "\n",
    "Point = namedtuple('Point',['x','y'])\n",
    "p = Point(11, y=22)\n",
    "print(p)\n",
    "print(p.x, p.y)\n",
    "print(p[0] +p[1])\n",
    "from collections import namedtuple\n",
    "\n",
    "Point = namedtuple('Point',['x','y'])\n",
    "p = Point(11, y=22)\n",
    "print(p)\n",
    "print(p.x, p.y)\n",
    "print(p[0] +p[1])\n"
   ]
  }
 ],
 "metadata": {
  "kernelspec": {
   "display_name": "Python 3",
   "language": "python",
   "name": "python3"
  },
  "language_info": {
   "codemirror_mode": {
    "name": "ipython",
    "version": 3
   },
   "file_extension": ".py",
   "mimetype": "text/x-python",
   "name": "python",
   "nbconvert_exporter": "python",
   "pygments_lexer": "ipython3",
   "version": "3.6.5"
  }
 },
 "nbformat": 4,
 "nbformat_minor": 2
}
