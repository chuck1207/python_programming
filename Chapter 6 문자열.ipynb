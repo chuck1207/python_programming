{
 "cells": [
  {
   "cell_type": "markdown",
   "metadata": {},
   "source": [
    "# Chapter 06 문자열"
   ]
  },
  {
   "cell_type": "markdown",
   "metadata": {},
   "source": [
    "## 01 문자열의 이해\n",
    "## 02 Lab: 단어 카운팅\n",
    "## 03 문자열 서식 지정"
   ]
  },
  {
   "cell_type": "markdown",
   "metadata": {},
   "source": [
    "## 01 문자열의 이해"
   ]
  },
  {
   "cell_type": "markdown",
   "metadata": {},
   "source": [
    "### 1. 문자열의 개념"
   ]
  },
  {
   "cell_type": "markdown",
   "metadata": {},
   "source": [
    "#### 문자열은 리스트와 같이 데이터를 순차적으로 메모리에 저장하는 형식의 시퀀스 자료형이다. "
   ]
  },
  {
   "cell_type": "markdown",
   "metadata": {},
   "source": [
    "### 2. 문자열과 메모리 공간 "
   ]
  },
  {
   "cell_type": "markdown",
   "metadata": {},
   "source": [
    "#### 1) 일반적으로 문자열을 저장하기 위해서는 영문자 한 글자당 1바이트의 메모리 공간 사용\n",
    "#### 2) 아래와 같은 코드를 이용하면 문자열이 저장된 공간의 크기를 확인할 수 있다."
   ]
  },
  {
   "cell_type": "code",
   "execution_count": 24,
   "metadata": {},
   "outputs": [
    {
     "name": "stdout",
     "output_type": "stream",
     "text": [
      "50 51 52\n"
     ]
    }
   ],
   "source": [
    "import sys\n",
    "print(sys.getsizeof(\"a\"),sys.getsizeof(\"ab\"),sys.getsizeof(\"abc\"))"
   ]
  },
  {
   "cell_type": "markdown",
   "metadata": {},
   "source": [
    "#### 3) 컴퓨터는 텍스트를 문자로 인식하는 것이 아닌 2진수로 변환하여 저장\n",
    "#### 4) 예를들면 a 는 01001011로 변환되어 메모리에 저장"
   ]
  },
  {
   "cell_type": "markdown",
   "metadata": {},
   "source": [
    "### 3. 문자열의 인덱싱 "
   ]
  },
  {
   "cell_type": "markdown",
   "metadata": {},
   "source": [
    "#### 시퀀스 자료형은 리스트와 특징이 거의 같은 자료형이라고 생각\n",
    "#### 아래의 그림을 보자 "
   ]
  },
  {
   "cell_type": "code",
   "execution_count": 25,
   "metadata": {},
   "outputs": [
    {
     "name": "stdout",
     "output_type": "stream",
     "text": [
      "a e\n",
      "e a\n"
     ]
    }
   ],
   "source": [
    "a = \"abcde\"\n",
    "print(a[0],a[4]) # a 변수의 0번째, 4번째 주소에 있는 값\n",
    "print(a[-1],a[-5]) #a 변수의 오른쪽에서 0번째, 4번째 주소에 있는 값"
   ]
  },
  {
   "cell_type": "markdown",
   "metadata": {},
   "source": [
    "### 4. 문자열의 슬라이싱"
   ]
  },
  {
   "cell_type": "markdown",
   "metadata": {},
   "source": [
    "#### 슬라이싱은 문자열의 주소값을 기반으로 문자열의 부분값을 반환하는 기법"
   ]
  },
  {
   "cell_type": "code",
   "execution_count": 26,
   "metadata": {},
   "outputs": [
    {
     "name": "stdout",
     "output_type": "stream",
     "text": [
      "TEAMLA AND ME Python\n",
      "TEAMLAB MOOC, AWESOME Python\n",
      "TEAMLAB MOOC, AWESOME Python\n",
      "TALBMO,AEOEPto AND nohtyP EMOSEWA ,COOM BALMAET\n"
     ]
    }
   ],
   "source": [
    "a =\"TEAMLAB MOOC, AWESOME Python\"\n",
    "print(a[0:6],\"AND\",a[-9:]) # a 변수의 0부터 5까지, -9부터 끝까지\n",
    "\n",
    "print(a[:]) # a 변수의 처음부터 끝까지\n",
    "\n",
    "print(a[-50:50]) # 범위를 넘어갈 경우 자동으로 최대 범위를 지정\n",
    "\n",
    "print(a[::2],\"AND\",a[::-1]) # a[::2]한칸씩 띄어서 출력, a[::-1] 역으로 출력"
   ]
  },
  {
   "cell_type": "markdown",
   "metadata": {},
   "source": [
    "### 5. 문자열의 연산"
   ]
  },
  {
   "cell_type": "markdown",
   "metadata": {},
   "source": [
    "#### 문자열도 일반적인 변수와 마찬가지로 연산을 지원\n",
    "#### 문자열변수와 정수형 변수와의 연산은 동작하지 않는다. \n",
    "#### a*2와 같은 연산은 지원 "
   ]
  },
  {
   "cell_type": "code",
   "execution_count": 27,
   "metadata": {},
   "outputs": [
    {
     "name": "stdout",
     "output_type": "stream",
     "text": [
      "TEAMLAB\n",
      "TEAMTEAMLABLAB\n"
     ]
    }
   ],
   "source": [
    "a = \"TEAM\"\n",
    "b = \"LAB\"\n",
    "print(a+\"\"+b)\n",
    "print(a*2 + \"\" + b*2)\n"
   ]
  },
  {
   "cell_type": "markdown",
   "metadata": {},
   "source": [
    "#### 문자열을 대문자로 변환하는 upper()함수와 소문자로 변환하는 lower()함수 "
   ]
  },
  {
   "cell_type": "code",
   "execution_count": 28,
   "metadata": {},
   "outputs": [
    {
     "name": "stdout",
     "output_type": "stream",
     "text": [
      "TEAMLAB X INFLEARN\n",
      "teamlab x inflearn\n"
     ]
    }
   ],
   "source": [
    "title = \"TEAMLAB X Inflearn\"\n",
    "print(title.upper())\n",
    "print(title.lower())"
   ]
  },
  {
   "cell_type": "markdown",
   "metadata": {},
   "source": [
    "#### 각 단어의 앞글자만 대문자로 바꾸는 title(), 첫 번째 글자만 대문자로 바꾸는 함수 capitalize()"
   ]
  },
  {
   "cell_type": "code",
   "execution_count": 29,
   "metadata": {},
   "outputs": [
    {
     "name": "stdout",
     "output_type": "stream",
     "text": [
      "Teamlab X Inflearn\n"
     ]
    },
    {
     "data": {
      "text/plain": [
       "'Teamlab x inflearn'"
      ]
     },
     "execution_count": 29,
     "metadata": {},
     "output_type": "execute_result"
    }
   ],
   "source": [
    "title = \"TEAMLAB X Inflearn\"\n",
    "print(title.title())\n",
    "title.capitalize()\n"
   ]
  },
  {
   "cell_type": "markdown",
   "metadata": {},
   "source": [
    "#### count() 함수는 해당 문자열에서 특정 문자가 포함된 개수를 반환, isdigit()함수는 해당 문자열이 숫자인지, startswith() 함수는 해당 문자열로 시작하는지를 불린형으로 출력"
   ]
  },
  {
   "cell_type": "code",
   "execution_count": 30,
   "metadata": {},
   "outputs": [
    {
     "name": "stdout",
     "output_type": "stream",
     "text": [
      "1\n",
      "0\n",
      "False\n",
      "False\n"
     ]
    }
   ],
   "source": [
    "title = \"TEAMLAB X Inflearn\"\n",
    "print(title.count(\"a\"))\n",
    "print(title.upper().count(\"a\"))\n",
    "print(title.isdigit())\n",
    "print(title.startswith(\"a\"))"
   ]
  },
  {
   "cell_type": "markdown",
   "metadata": {},
   "source": [
    "## 02 Lab:단어 카운팅 "
   ]
  },
  {
   "cell_type": "code",
   "execution_count": 31,
   "metadata": {},
   "outputs": [],
   "source": [
    "path = \"D:/py_fi/01_new_pycharm/class/5week/\""
   ]
  },
  {
   "cell_type": "code",
   "execution_count": 32,
   "metadata": {},
   "outputs": [
    {
     "name": "stdout",
     "output_type": "stream",
     "text": [
      "John Denver의 'Take Me Home,Country roads'에는 'Country'라는 단어가 10 회 포함되어 있습니다.\n"
     ]
    }
   ],
   "source": [
    "#country roads라는 txt 파일을 읽기모드로 여는 것을 f로 할당\n",
    "f = open(path + \"country roads.txt\",'r')\n",
    "#country라는 변수에 저장\n",
    "country = f.readlines()\n",
    "#열어둔 읽기모드를 닫는다.\n",
    "f.close()\n",
    "#컨텐츠라는 변수를 생성\n",
    "contents = \"\"\n",
    "#country는 현재 한줄마다 리스트로 저장 되어있음\n",
    "for line in country:\n",
    "#리스트가 아닌 하나의 변수로 저장\n",
    "    contents = contents +line.strip() + \"\\n\"\n",
    "#변수들의 모든 스펠링을 대문자로 변경하고 country라는 단어가 몇개나 있는지 변수에 저장\n",
    "n_country = contents.upper().count(\"COUNTRY\")\n",
    "# country라는 단어가 몇개나 있는지 가독성있게 출력\n",
    "print(\"John Denver의 'Take Me Home,Country roads'에는 'Country'라는 단어가\", n_country,\"회 포함되어 있습니다.\")"
   ]
  },
  {
   "cell_type": "code",
   "execution_count": null,
   "metadata": {},
   "outputs": [],
   "source": []
  },
  {
   "cell_type": "markdown",
   "metadata": {},
   "source": [
    "## 03 문자열 서식 지정"
   ]
  },
  {
   "cell_type": "markdown",
   "metadata": {},
   "source": [
    "### 1. 서식 지정의 개념"
   ]
  },
  {
   "cell_type": "markdown",
   "metadata": {},
   "source": [
    "#### 1) print()함수는 기본적으로 변수 또는 값을 콤마(,)로 띄어쓰기 하여 출력 \n",
    "#### 2) 하지만 어떤 형식에 맞춰서 출력해야 할일이 있을때 사용\n",
    "#### 3) 통화 단위, 세 자리 숫자 단위 띄어쓰기, % 출력 등 \n"
   ]
  },
  {
   "cell_type": "markdown",
   "metadata": {},
   "source": [
    "### 2. %서식과 format()함수 "
   ]
  },
  {
   "cell_type": "markdown",
   "metadata": {},
   "source": [
    "#### 문자열의 서식을 설정할 때, print()함수는 기본적인 출력형식 외 % 서식과 format() 함수를 구문으로 출력양식을 지정 가능\n",
    "#### format함수를 이용할때 {}빈칸 안에 숫자를 지정하여 들어갈 순서를 지정할 수도 있다. "
   ]
  },
  {
   "cell_type": "code",
   "execution_count": 33,
   "metadata": {},
   "outputs": [
    {
     "name": "stdout",
     "output_type": "stream",
     "text": [
      "1 2 3\n",
      "a b c\n",
      "1 2 3\n",
      "a b c\n",
      "c a b\n"
     ]
    }
   ],
   "source": [
    "# 별도의 서식없이 print()함수 이용\n",
    "print(1, 2, 3)\n",
    "print(\"a\" + \" \" + \"b\" + \" \" + \"c\")\n",
    "# 1,2,3이 첫 %d부터 차례대로 할당\n",
    "print(\"%d %d %d\" % (1, 2, 3))\n",
    "# 아무것도 적혀있지 않은 {}공간에 \"a\",\"b\",\"c\"라는 문자열 형태의 값 3개가 할당\n",
    "print(\"{} {} {}\".format(\"a\", \"b\", \"c\"))\n",
    "# format함수를 이용할때 {}빈칸 안에 숫자를 지정하여 들어갈 순서를 지정할 수도 있다. \n",
    "print(\"{2} {0} {1}\".format(\"a\", \"b\", \"c\"))"
   ]
  },
  {
   "cell_type": "markdown",
   "metadata": {},
   "source": [
    "#### 4) 문자형과 정수형은 %뒤에 써주는 게 다르다 문자형 -> %s,정수형 -> %d"
   ]
  },
  {
   "cell_type": "code",
   "execution_count": 34,
   "metadata": {},
   "outputs": [
    {
     "name": "stdout",
     "output_type": "stream",
     "text": [
      "one two\n",
      "1 2\n"
     ]
    }
   ],
   "source": [
    "print('%s %s' % ('one', 'two'))\n",
    "print('%d %d' % (1, 2))"
   ]
  },
  {
   "cell_type": "markdown",
   "metadata": {},
   "source": [
    "#### 2.1 %서식"
   ]
  },
  {
   "cell_type": "markdown",
   "metadata": {},
   "source": [
    "##### %서식은 다음과 같은 형태로 출력 양식을 표현하는 기법 \n",
    "##### %자료형 % (값)"
   ]
  },
  {
   "cell_type": "code",
   "execution_count": 35,
   "metadata": {},
   "outputs": [
    {
     "name": "stdout",
     "output_type": "stream",
     "text": [
      "I eat 3 apples.\n",
      "I eat five apples.\n"
     ]
    }
   ],
   "source": [
    "\n",
    "print(\"I eat %d apples.\" % 3) #정수형은 %d로 포맷팅 할 수 있다.\n",
    "print(\"I eat %s apples.\" % \"five\") #문자열은 s%로 포맷팅 할 수 있다.\n"
   ]
  },
  {
   "cell_type": "markdown",
   "metadata": {},
   "source": [
    "##### 직접 넣지 않고 변수명을 넣어도 문제없이 실행된다. "
   ]
  },
  {
   "cell_type": "code",
   "execution_count": 36,
   "metadata": {},
   "outputs": [
    {
     "name": "stdout",
     "output_type": "stream",
     "text": [
      "I ate 3 apples. I was sick for three days.\n"
     ]
    }
   ],
   "source": [
    "number = 3\n",
    "day = \"three\"\n",
    "print(\"I ate %d apples. I was sick for %s days.\" % (number, day))"
   ]
  },
  {
   "cell_type": "markdown",
   "metadata": {},
   "source": [
    "#### 2.2 format() 함수"
   ]
  },
  {
   "cell_type": "markdown",
   "metadata": {},
   "source": [
    "##### %서식과 거의 같지만 문자열 형태가 있는 함수를 사용한다는 차이점이 있음\n",
    "##### \"(자료형)\".format(인수)\n",
    "##### 자료형을 바로 지정해주지 않고 순서대로 변수가 할당된다는 장점이 있음"
   ]
  },
  {
   "cell_type": "code",
   "execution_count": 37,
   "metadata": {},
   "outputs": [
    {
     "name": "stdout",
     "output_type": "stream",
     "text": [
      "I'm 20 years old.\n"
     ]
    }
   ],
   "source": [
    "print(\"I'm {0} years old.\".format(20))"
   ]
  },
  {
   "cell_type": "code",
   "execution_count": null,
   "metadata": {},
   "outputs": [],
   "source": []
  },
  {
   "cell_type": "markdown",
   "metadata": {},
   "source": [
    "### 패딩"
   ]
  },
  {
   "cell_type": "markdown",
   "metadata": {},
   "source": [
    "#### 여유공간을 지정하여 글자 배열을 맞추고 소수점 자릿수를 맞추는 기능 "
   ]
  },
  {
   "cell_type": "markdown",
   "metadata": {},
   "source": [
    "#### 3.1 %서식의 패딩"
   ]
  },
  {
   "cell_type": "code",
   "execution_count": 38,
   "metadata": {},
   "outputs": [
    {
     "name": "stdout",
     "output_type": "stream",
     "text": [
      "        12\n",
      "12        \n"
     ]
    }
   ],
   "source": [
    "print(\"%10d\"%12) #글자를 우측정렬을 하고 좌측에 빈칸을 배치\n",
    "print(\"%-10d\"%12) #글자를 좌측정렬하고 우측에 빈칸을 배치"
   ]
  },
  {
   "cell_type": "markdown",
   "metadata": {},
   "source": [
    "#### 실수에서도 자릿수와 소수점 자릿수를 지정할 수 있다."
   ]
  },
  {
   "cell_type": "code",
   "execution_count": 39,
   "metadata": {},
   "outputs": [
    {
     "name": "stdout",
     "output_type": "stream",
     "text": [
      "     5.943\n",
      "      5.94\n",
      "5.94      \n"
     ]
    }
   ],
   "source": [
    "print(\"%10.3f\"%5.94343)\n",
    "print(\"%10.2f\"%5.94343)\n",
    "print(\"%-10.2f\"%5.94343)"
   ]
  },
  {
   "cell_type": "markdown",
   "metadata": {},
   "source": [
    "#### 3.2 format()함수의 패딩"
   ]
  },
  {
   "cell_type": "code",
   "execution_count": 40,
   "metadata": {},
   "outputs": [
    {
     "name": "stdout",
     "output_type": "stream",
     "text": [
      "     Apple\n",
      "Apple     \n"
     ]
    }
   ],
   "source": [
    "print(\"{0:>10s}\".format(\"Apple\"))\n",
    "print(\"{0:<10s}\".format(\"Apple\"))"
   ]
  },
  {
   "cell_type": "markdown",
   "metadata": {},
   "source": [
    "#### 실수에서도 자릿수와 소수점을 지정할 수 있음(format()함수)"
   ]
  },
  {
   "cell_type": "code",
   "execution_count": 41,
   "metadata": {},
   "outputs": [
    {
     "name": "stdout",
     "output_type": "stream",
     "text": [
      "   5.24300.\n",
      "   5.24300.\n",
      "5.24300   .\n"
     ]
    }
   ],
   "source": [
    "print(\"{1:10.5f}.\".format(\"Apple\",5.243))\n",
    "print(\"{1:>10.5f}.\".format(\"Apple\",5.243))\n",
    "print(\"{1:<10.5f}.\".format(\"Apple\",5.243))"
   ]
  }
 ],
 "metadata": {
  "kernelspec": {
   "display_name": "Python 3",
   "language": "python",
   "name": "python3"
  },
  "language_info": {
   "codemirror_mode": {
    "name": "ipython",
    "version": 3
   },
   "file_extension": ".py",
   "mimetype": "text/x-python",
   "name": "python",
   "nbconvert_exporter": "python",
   "pygments_lexer": "ipython3",
   "version": "3.6.5"
  }
 },
 "nbformat": 4,
 "nbformat_minor": 2
}
