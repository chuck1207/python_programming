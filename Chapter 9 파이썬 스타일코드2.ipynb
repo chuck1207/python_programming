{
 "cells": [
  {
   "cell_type": "markdown",
   "metadata": {},
   "source": [
    "# Chapter 09 파이썬 스타일코드 2`"
   ]
  },
  {
   "cell_type": "markdown",
   "metadata": {},
   "source": [
    "## 01 람다 함수\n",
    "## 02 맵리듀스\n",
    "## 03 별표의 활용\n",
    "## 04 선형대수학 "
   ]
  },
  {
   "cell_type": "code",
   "execution_count": null,
   "metadata": {},
   "outputs": [],
   "source": []
  },
  {
   "cell_type": "markdown",
   "metadata": {},
   "source": [
    "## 01 람다 함수"
   ]
  },
  {
   "cell_type": "markdown",
   "metadata": {},
   "source": [
    "### 1. 람다 함수의 사용 "
   ]
  },
  {
   "cell_type": "markdown",
   "metadata": {},
   "source": [
    "#### 1.1. 람다(lambda) 함수: 함수의 이름 없이, 함수처럼 사용할 수 있는 익명의 함수\n",
    "#### 1.2. 람다 함수는 이름을 지정하지 않아도 사용\n",
    "#### 1.3. 위와 아래는 완전히 같은 코드 (위는 함수, 아래는 람다함수)\n",
    "#### 1.4. 람다 함수는 별도의 def나 return을 작성하지 않음\n",
    "#### 1.5. 기존의 f함수와는 구조는 같지만 표현이 다를 뿐"
   ]
  },
  {
   "cell_type": "code",
   "execution_count": 1,
   "metadata": {},
   "outputs": [
    {
     "name": "stdout",
     "output_type": "stream",
     "text": [
      "5\n"
     ]
    }
   ],
   "source": [
    "def f(x, y):\n",
    "    return x + y\n",
    "\n",
    "print(f(1, 4))\n"
   ]
  },
  {
   "cell_type": "code",
   "execution_count": 2,
   "metadata": {},
   "outputs": [
    {
     "name": "stdout",
     "output_type": "stream",
     "text": [
      "5\n"
     ]
    }
   ],
   "source": [
    "f = lambda x, y: x + y\n",
    "print(f(1, 4))\n"
   ]
  },
  {
   "cell_type": "markdown",
   "metadata": {},
   "source": [
    "### 2.람다 함수의 다양한 형태 "
   ]
  },
  {
   "cell_type": "markdown",
   "metadata": {},
   "source": [
    "##### 2.1. 가장 아래의 코드를 보면 매개변수를 1개로 선언했지만 2개 이상의 값이 들어가 오류가 발생 "
   ]
  },
  {
   "cell_type": "code",
   "execution_count": 1,
   "metadata": {},
   "outputs": [
    {
     "data": {
      "text/plain": [
       "5"
      ]
     },
     "execution_count": 1,
     "metadata": {},
     "output_type": "execute_result"
    }
   ],
   "source": [
    "f = lambda x,y: x+y\n",
    "f(1,4)\n"
   ]
  },
  {
   "cell_type": "code",
   "execution_count": 2,
   "metadata": {},
   "outputs": [
    {
     "data": {
      "text/plain": [
       "9"
      ]
     },
     "execution_count": 2,
     "metadata": {},
     "output_type": "execute_result"
    }
   ],
   "source": [
    "f = lambda x:x**2\n",
    "f(3)"
   ]
  },
  {
   "cell_type": "code",
   "execution_count": 3,
   "metadata": {},
   "outputs": [
    {
     "data": {
      "text/plain": [
       "1.5"
      ]
     },
     "execution_count": 3,
     "metadata": {},
     "output_type": "execute_result"
    }
   ],
   "source": [
    "f = lambda x:x/2\n",
    "f(3)"
   ]
  },
  {
   "cell_type": "code",
   "execution_count": 4,
   "metadata": {},
   "outputs": [
    {
     "ename": "TypeError",
     "evalue": "<lambda>() takes 1 positional argument but 2 were given",
     "output_type": "error",
     "traceback": [
      "\u001b[1;31m---------------------------------------------------------------------------\u001b[0m",
      "\u001b[1;31mTypeError\u001b[0m                                 Traceback (most recent call last)",
      "\u001b[1;32m<ipython-input-4-160a374c3815>\u001b[0m in \u001b[0;36m<module>\u001b[1;34m()\u001b[0m\n\u001b[1;32m----> 1\u001b[1;33m \u001b[0mf\u001b[0m\u001b[1;33m(\u001b[0m\u001b[1;36m3\u001b[0m\u001b[1;33m,\u001b[0m\u001b[1;36m5\u001b[0m\u001b[1;33m)\u001b[0m\u001b[1;33m\u001b[0m\u001b[0m\n\u001b[0m",
      "\u001b[1;31mTypeError\u001b[0m: <lambda>() takes 1 positional argument but 2 were given"
     ]
    }
   ],
   "source": [
    "f(3,5)"
   ]
  },
  {
   "cell_type": "code",
   "execution_count": null,
   "metadata": {},
   "outputs": [],
   "source": []
  },
  {
   "cell_type": "markdown",
   "metadata": {},
   "source": [
    "## 02 맵리듀스 "
   ]
  },
  {
   "cell_type": "markdown",
   "metadata": {},
   "source": [
    "### 1. map() 함수"
   ]
  },
  {
   "cell_type": "markdown",
   "metadata": {},
   "source": [
    "#### 1.1. 연속 데이터를 저장하는 시퀀스형에서 요소마다 같은 기능을 적용할 때 사용\n",
    "#### 1.2. 일반적으로 리스트나 튜플처럼 요소가 있는 시퀀스 자료형에 사용\n",
    "#### 1.3. 아래의 코드를 보자"
   ]
  },
  {
   "cell_type": "code",
   "execution_count": null,
   "metadata": {},
   "outputs": [],
   "source": [
    "ex = [1,2,3,4,5] # ex라는 이름의 리스트를 생성\n",
    "f = lambda x: x**2 # 제곱하는 람다 함수 f를 생성\n",
    "print(list(map(f,ex))) # map(함수 이름, 리스트 데이터)의 구조에서 map(f,ex)코드를 실행\n",
    "# 이는 함수 f를 ex의 각 요소에 맵핑하라는 뜻 "
   ]
  },
  {
   "cell_type": "code",
   "execution_count": null,
   "metadata": {},
   "outputs": [],
   "source": []
  },
  {
   "cell_type": "markdown",
   "metadata": {},
   "source": [
    "#### 1.1 제너레이터의 사용"
   ]
  },
  {
   "cell_type": "markdown",
   "metadata": {},
   "source": [
    "##### 1.1.1 파이썬 2.x에서는 map(f,ex)라고만 입력해도 리스트로 반환 \n",
    "##### 1.1.2 3.x에서는 반드시 list(map(f, ex))처럼 list를 붙여야 리스트로 반환\n",
    "##### 1.1.3 제너레이터는 시퀀스 자료형의 데이터를 처리할 때 실행 시점의 값을 생성하여 효율적으로 메모리를 관리할 수 있다는 장점이 있음 \n",
    "##### 1.1.4 리스트를 붙이지 않았을 경우에는 아래와 같이 코딩할 수 있음 ( for문을 활용해 출력) "
   ]
  },
  {
   "cell_type": "code",
   "execution_count": 6,
   "metadata": {},
   "outputs": [
    {
     "name": "stdout",
     "output_type": "stream",
     "text": [
      "1\n",
      "4\n",
      "9\n",
      "16\n",
      "25\n"
     ]
    }
   ],
   "source": [
    "ex = [1,2,3,4,5]\n",
    "f = lambda x: x**2\n",
    "for value in map(f,ex):\n",
    "    print(value)"
   ]
  },
  {
   "cell_type": "code",
   "execution_count": null,
   "metadata": {},
   "outputs": [],
   "source": []
  },
  {
   "cell_type": "markdown",
   "metadata": {},
   "source": [
    "#### 1.2 리스트 컴프리헨션과의 비교 \n",
    "#### 1.3 한 개 이상의 시퀀스 자료형 데이터의 처리"
   ]
  },
  {
   "cell_type": "markdown",
   "metadata": {},
   "source": [
    "##### 1.2.1 최근에는 람다 함수나 map() 함수를 프로그램 개발에 사용하는 것을 권장하지 않음\n",
    "##### 1.2.1 굳이 두 함수를 사용하지 않더라도 리스트 컴프리헨션으로 같은 효과를 낼 수 있기 때문\n",
    "##### 1.2.1 map() 함수는 2개 이상의 시퀀스 자료형 데이터를 처리하는데도 문제가 없음\n",
    "##### 1.2.1 그러므로 여러 개의 시퀀스 자료형 데이터를 입력값으로 사용할 수 있음\n",
    "##### 1.2.1 만약 람다함수를 작성한다면, zip() 함수처럼 2개의 시퀀스 자료형 데이터에서 같은 위치에 있는 값끼리 대응해 계산할 수 있음 "
   ]
  },
  {
   "cell_type": "code",
   "execution_count": 7,
   "metadata": {},
   "outputs": [
    {
     "data": {
      "text/plain": [
       "[2, 4, 6, 8, 10]"
      ]
     },
     "execution_count": 7,
     "metadata": {},
     "output_type": "execute_result"
    }
   ],
   "source": [
    "ex = [1,2,3,4,5]\n",
    "f = lambda x,y : x + y\n",
    "list(map(f,ex,ex))"
   ]
  },
  {
   "cell_type": "code",
   "execution_count": 8,
   "metadata": {
    "scrolled": true
   },
   "outputs": [
    {
     "data": {
      "text/plain": [
       "[2, 4, 6, 8, 10]"
      ]
     },
     "execution_count": 8,
     "metadata": {},
     "output_type": "execute_result"
    }
   ],
   "source": [
    "[x+y for x,y in zip(ex,ex)]"
   ]
  },
  {
   "cell_type": "code",
   "execution_count": null,
   "metadata": {},
   "outputs": [],
   "source": []
  },
  {
   "cell_type": "markdown",
   "metadata": {},
   "source": [
    "#### 1.4 필터링 기능 "
   ]
  },
  {
   "cell_type": "markdown",
   "metadata": {},
   "source": [
    "##### 1.4.1. map() 함수는 리스트 컴프리헨션처럼 필터링 기능을 사용 가능 \n",
    "##### 1.4.2. else문을 반드시 작성해야함 \n",
    "##### 1.4.3. 리스트 컴프리헨션 코드가 좀 더 직관적"
   ]
  },
  {
   "cell_type": "code",
   "execution_count": 9,
   "metadata": {},
   "outputs": [
    {
     "data": {
      "text/plain": [
       "[1, 4, 3, 16, 5]"
      ]
     },
     "execution_count": 9,
     "metadata": {},
     "output_type": "execute_result"
    }
   ],
   "source": [
    "# 람다함수\n",
    "list(map(lambda x:x ** 2 if x % 2 == 0 else x,ex))"
   ]
  },
  {
   "cell_type": "code",
   "execution_count": 10,
   "metadata": {},
   "outputs": [
    {
     "data": {
      "text/plain": [
       "[1, 4, 3, 16, 5]"
      ]
     },
     "execution_count": 10,
     "metadata": {},
     "output_type": "execute_result"
    }
   ],
   "source": [
    "# 리스트 컴프리헨션\n",
    "[x**2 if x % 2 == 0 else x for x in ex]"
   ]
  },
  {
   "cell_type": "code",
   "execution_count": null,
   "metadata": {},
   "outputs": [],
   "source": []
  },
  {
   "cell_type": "markdown",
   "metadata": {},
   "source": [
    "### 2. reduce() 함수"
   ]
  },
  {
   "cell_type": "markdown",
   "metadata": {},
   "source": [
    "#### 2.1. reduce() 함수는 map() 함수와 용법은 다르지만, 형제처럼 함께 사용하는 함수\n",
    "#### 2.2. 시퀀스 자료형에 차례대로 함수를 적용하여 모든 값을 통합하는 함수 \n",
    "#### 2.3. 마치 피보나치 수열과 같이 계산을 하는 방법\n",
    "#### 2.4. x는 기존의 x + y를 적용한 값을 계속 저장하는 변수\n",
    "#### 2.5. y는 기존의 map()과 같지만 리스트 변수의 모든 값을 람다함수로 적용한다는 차이가 존재"
   ]
  },
  {
   "cell_type": "code",
   "execution_count": 11,
   "metadata": {},
   "outputs": [
    {
     "name": "stdout",
     "output_type": "stream",
     "text": [
      "15\n"
     ]
    }
   ],
   "source": [
    "#reduce함수 # 파이썬 튜터로 확인해보자 \n",
    "from functools import reduce\n",
    "print(reduce(lambda x,y : x+y,[1,2,3,4,5]))"
   ]
  },
  {
   "cell_type": "markdown",
   "metadata": {},
   "source": [
    "## 03 별표의 활용"
   ]
  },
  {
   "cell_type": "markdown",
   "metadata": {},
   "source": [
    "### 1. 별표의 사용"
   ]
  },
  {
   "cell_type": "markdown",
   "metadata": {},
   "source": [
    "#### 1.1. 별표(asterisk)는 곱하기 기호(*)를 뜻함 \n",
    "#### 1.2. 단순 곱셈이나 제곱 연산에 많이 사용됨 \n",
    "#### 1.3. 별표를 사용하는 특별한 경우: 함수의 가변인수를 사용할 때 변수명 앞에 사용 (5장 참고)\n",
    "#### 1.4. 별표 한 개(*) 또는 두 개(**)를 변수명 앞에 붙여 여러 개의 변수가 함수에 한번에 들어갈 수 있도록 처리 \n",
    "#### 1.5. 변수를 담는 컨테이너로서의 속성을 부여함"
   ]
  },
  {
   "cell_type": "markdown",
   "metadata": {},
   "source": [
    "###### 별표 하나 (튜플)"
   ]
  },
  {
   "cell_type": "code",
   "execution_count": 3,
   "metadata": {},
   "outputs": [
    {
     "name": "stdout",
     "output_type": "stream",
     "text": [
      "1 (2, 3, 4, 5, 6)\n",
      "<class 'tuple'>\n"
     ]
    }
   ],
   "source": [
    "def asterisk_test(a,*args):\n",
    "    print(a,args)\n",
    "    print(type(args))\n",
    "    \n",
    "asterisk_test(1,2,3,4,5,6)"
   ]
  },
  {
   "cell_type": "markdown",
   "metadata": {},
   "source": [
    "###### 별표 두개 (딕셔너리)"
   ]
  },
  {
   "cell_type": "code",
   "execution_count": 4,
   "metadata": {},
   "outputs": [
    {
     "name": "stdout",
     "output_type": "stream",
     "text": [
      "1 {'b': 2, 'c': 3, 'd': 4, 'e': 5, 'f': 6}\n",
      "<class 'dict'>\n"
     ]
    }
   ],
   "source": [
    "def asterisk_test(a,**kargs):\n",
    "    print(a,kargs)\n",
    "    print(type(kargs))\n",
    "    \n",
    "asterisk_test(1,b=2,c=3,d=4,e=5,f=6)"
   ]
  },
  {
   "cell_type": "markdown",
   "metadata": {},
   "source": [
    "### 2. 별표의 언패킹 기능"
   ]
  },
  {
   "cell_type": "markdown",
   "metadata": {},
   "source": [
    "#### 1.1. 별표는 여러개의 데이터를 담는 리스트, 튜플, 딕셔너리와 같은 자료형에서는 해당 데이터를 언패킹하는 기능 "
   ]
  },
  {
   "cell_type": "code",
   "execution_count": 5,
   "metadata": {},
   "outputs": [
    {
     "name": "stdout",
     "output_type": "stream",
     "text": [
      "1 2 3 4 5 6\n",
      "<class 'tuple'>\n"
     ]
    }
   ],
   "source": [
    "def asterisk_test(a,args): \n",
    "    # 매개변수를 2개만 받음, args 앞에 별표가 붙지않음\n",
    "    # 정수형이 a와 튜플형인 args가 매개변수에 입력\n",
    "    print(a,*args) # 그러나 여기서 입력된 * 때문에 언패킹이 되어 결과값처럼 출력됨 \n",
    "    print(type(args))\n",
    "    \n",
    "asterisk_test(1,(2,3,4,5,6))"
   ]
  },
  {
   "cell_type": "code",
   "execution_count": null,
   "metadata": {},
   "outputs": [],
   "source": [
    "def asterisk_test(a,*args): #그러나 여기서 다시 묶임\n",
    "    print(a,args)\n",
    "    print(type(args))\n",
    "    \n",
    "asterisk_test(1,*(2,3,4,5,6))# 여기서 언패킹이 되었다"
   ]
  },
  {
   "cell_type": "code",
   "execution_count": 7,
   "metadata": {
    "scrolled": true
   },
   "outputs": [
    {
     "name": "stdout",
     "output_type": "stream",
     "text": [
      "[1, 2] [3, 4] [5, 6]\n",
      "[1, 2] [3, 4] [5, 6]\n"
     ]
    }
   ],
   "source": [
    "# 두 코드의 형태는 다르지만 모두 기존의 튜플 값을 언패킹하여 출력하는 결과는 같다. \n",
    "a,b,c = ([1,2],[3,4],[5,6])\n",
    "print(a,b,c)\n",
    "data = ([1,2],[3,4],[5,6])\n",
    "print(*data)"
   ]
  },
  {
   "cell_type": "markdown",
   "metadata": {},
   "source": [
    "#### 1.2. 별표의 언패킹 기능을 유용하게 사용할 수 있는 것 중 하나가 zip() 함수와 함께 사용할 때 \n",
    "#### 1.3. 이차원 리스트에서 행마다 한 학생의 수학, 영어, 국어 점수를 만들어 평균을 내고 싶을 때는 2개의 for문을 사용하여 계산할 수 있음\n",
    "#### 1.4. 하지만 별표를 사용하면 하나의 for문 만으로도 원하는 결과를 얻을 수 있음"
   ]
  },
  {
   "cell_type": "code",
   "execution_count": null,
   "metadata": {},
   "outputs": [],
   "source": [
    "for data in zip(*[[1,2],[3,4],[5,6]]):\n",
    "    # 언패킹하면 [1,2],[3,4],[5,6]\n",
    "    # zip함수를 활용하여 같은 위치의 값을 튜플로 묶음 \n",
    "    # 해당 결과를 출력 \n",
    "    # 여기서 sum과 같은 함수를 활용하면 합계나 평균을 내기에 용이 \n",
    "    print(data)\n",
    "    print(type(data))"
   ]
  },
  {
   "cell_type": "markdown",
   "metadata": {},
   "source": [
    "# 별표의 언패킹 (딕셔너리)"
   ]
  },
  {
   "cell_type": "code",
   "execution_count": 9,
   "metadata": {},
   "outputs": [
    {
     "name": "stdout",
     "output_type": "stream",
     "text": [
      "10 1 2 3\n"
     ]
    }
   ],
   "source": [
    "def asterisk_test(a,b,c,d):\n",
    "    print(a,b,c,d)\n",
    "    \n",
    "data = {'b':1,\"c\":2,\"d\":3}\n",
    "asterisk_test(10,**data)"
   ]
  },
  {
   "cell_type": "markdown",
   "metadata": {},
   "source": [
    "## 04 선형대수학"
   ]
  },
  {
   "cell_type": "markdown",
   "metadata": {},
   "source": [
    "### 1. 벡터와 행렬의 개념"
   ]
  },
  {
   "cell_type": "markdown",
   "metadata": {},
   "source": [
    "#### 1.1 벡터 "
   ]
  },
  {
   "cell_type": "markdown",
   "metadata": {},
   "source": [
    "##### 1.1.1. 크기와 방향을 모두 가지는 것을 벡터라고 하며 크기만 가지는 것을 스칼라라고 함\n",
    "##### 1.1.2. 열 형태로 숫자를 표현하고 좌표평면에 나타냄\n",
    "##### 1.1.3. 앞서 배운 리스트와 비슷, 여러개의 데이터를 하나의 정보에 표현한다고 생각\n",
    "##### 1.1.4. R은 실수를 의미하며 기호는 ‘[1,2,-1.0,3.14]는 4차원 실수 집합에 포함된다’라고 해석\n",
    "##### 1.1.5. 4-벡터, 4-vector 또는 4차원 벡터로 읽는다.5"
   ]
  },
  {
   "cell_type": "markdown",
   "metadata": {},
   "source": [
    "##### 1.2 행렬"
   ]
  },
  {
   "cell_type": "markdown",
   "metadata": {},
   "source": [
    "##### 1.2.1. 행렬은 원래 격자를 의미, 수학에서는 사각형으로 된 수의 배열을 지칭\n",
    "##### 1.2.2. 행렬에서 행 또는 열은 하나의 대상에 대한 정보를 표현한 것이며 그 모음이 바로 행렬\n",
    "##### 1.2.3. 행렬은 m개의 행과 n개의 열로 구성, 일반적으로 mxn행렬이라고 표기"
   ]
  },
  {
   "cell_type": "markdown",
   "metadata": {},
   "source": [
    "### 2. 파이썬 스타일 코드로 표현한 벡터 "
   ]
  },
  {
   "cell_type": "markdown",
   "metadata": {},
   "source": [
    "#### 2.1.1. 벡터를 파이썬 스타일 코드로 표현하는 방법은 아래와 같다. \n",
    "#### 2.1.2. 만약 각 데이터의 이름, 즉 x,y,z와 같은 정보(키, 몸무게, 나이)를 함께 표현해야 한다면 딕셔너리로 표현하는 방법도 좋은 방법\n",
    "#### 2.1.3. 데이터의 위치나 순서가 바뀌지 않아야 한다면 튜플로 저장하는 것이 좋음 "
   ]
  },
  {
   "cell_type": "code",
   "execution_count": 10,
   "metadata": {},
   "outputs": [],
   "source": [
    "vector = [1,2,10] # 리스트로 표현한 경우\n",
    "vecotr = (1,2,10) # 튜플로 표현한 경우\n",
    "vecotr = {'x':1,'y':2,'z':3} #딕셔너리로 표현한 경우"
   ]
  },
  {
   "cell_type": "markdown",
   "metadata": {},
   "source": [
    "#### 2.1 벡터의 연산 "
   ]
  },
  {
   "cell_type": "markdown",
   "metadata": {},
   "source": [
    "##### 2.1.1. 벡터의 가장 기본적인 연산은 같은 위치에 있는 값끼리 연산하는 것이다. \n",
    "##### 2.1.2. 연산을 하기 위해서는 먼저 벡터의 크기가 같아야 함 \n",
    "##### 2.1.3. 리스트라면 각 인덱스 값이 같은 위치에 있는 값끼리 연산을 하면 됨\n",
    "##### 2.1.4. 아래의 코드를 보자"
   ]
  },
  {
   "cell_type": "code",
   "execution_count": 13,
   "metadata": {},
   "outputs": [
    {
     "name": "stdout",
     "output_type": "stream",
     "text": [
      "[7, 10]\n"
     ]
    }
   ],
   "source": [
    "# 이 코드는 파이썬 특유의 간결성을 살리지 못함 (다른사람이 사용하기 어려울 수 있음)\n",
    "# 이 코드를 리스트 컴프리헨션과 zip()함수와 같은 스타일 코드를 사용하여 간단히 표기 가능\n",
    "u = [2,2]\n",
    "v = [2,3]\n",
    "z = [3,5]\n",
    "\n",
    "result = []\n",
    "\n",
    "for i in range(len(u)):\n",
    "    result.append(u[i]+v[i]+z[i])\n",
    "    \n",
    "print(result)"
   ]
  },
  {
   "cell_type": "code",
   "execution_count": 11,
   "metadata": {},
   "outputs": [
    {
     "name": "stdout",
     "output_type": "stream",
     "text": [
      "[7, 10]\n"
     ]
    }
   ],
   "source": [
    "# 코드가 훨씬 간결해 짐 \n",
    "u = [2,2]\n",
    "v = [2,3]\n",
    "z = [3,5]\n",
    "\n",
    "result = [sum(t) for t in zip(u,v,z)]\n",
    "print(result)"
   ]
  },
  {
   "cell_type": "markdown",
   "metadata": {},
   "source": [
    "#### 2.2 별표를 사용한 함수화"
   ]
  },
  {
   "cell_type": "code",
   "execution_count": 15,
   "metadata": {},
   "outputs": [
    {
     "data": {
      "text/plain": [
       "[7, 10]"
      ]
     },
     "execution_count": 15,
     "metadata": {},
     "output_type": "execute_result"
    }
   ],
   "source": [
    "# 만약 4개 이상의 변수 일 경우에는 별표를 이용\n",
    "\n",
    "def vector_addition(*args):\n",
    "    return [sum(t) for t in zip(*args)]\n",
    "\n",
    "vector_addition(u,v,z)"
   ]
  },
  {
   "cell_type": "markdown",
   "metadata": {},
   "source": [
    "# 변수를 3개나 생성하는 문제는 이차원 리스트를 만든 후 별표의 언패킹으로 해결"
   ]
  },
  {
   "cell_type": "code",
   "execution_count": 16,
   "metadata": {},
   "outputs": [
    {
     "data": {
      "text/plain": [
       "[7, 10]"
      ]
     },
     "execution_count": 16,
     "metadata": {},
     "output_type": "execute_result"
    }
   ],
   "source": [
    "row_vectors = [[2,2],[2,3],[3,5]]\n",
    "vector_addition(*row_vectors)"
   ]
  },
  {
   "cell_type": "markdown",
   "metadata": {},
   "source": [
    "# 스칼라 - 벡터 연산"
   ]
  },
  {
   "cell_type": "code",
   "execution_count": 17,
   "metadata": {},
   "outputs": [
    {
     "data": {
      "text/plain": [
       "[10, 12, 14]"
      ]
     },
     "execution_count": 17,
     "metadata": {},
     "output_type": "execute_result"
    }
   ],
   "source": [
    "# 같은인덱스에 있는 값들을 더한 후, 스칼라 값인 alpha를 곱한다. \n",
    "u = [1,2,3]\n",
    "v = [4,4,4]\n",
    "alpha = 2\n",
    "\n",
    "result = [alpha *sum(t) for t in zip(u,v)]\n",
    "result"
   ]
  },
  {
   "cell_type": "markdown",
   "metadata": {},
   "source": [
    "### 3. 파이썬 스타일 코드로 표현한 행렬"
   ]
  },
  {
   "cell_type": "markdown",
   "metadata": {},
   "source": [
    "#### /3.1.1. 행렬도 벡터와 마찬가지로 리스트, 튜플, 딕셔너리 등을 사용하여 파이썬 스타일 코드로 표현\n",
    "#### /3.1.2. 이차원정보 = 행렬, 일차원의 벡터 정보를 모아 이차원 형태로 표현\n",
    "#### /3.1.3. 다음과 같이 표현할 수 있음"
   ]
  },
  {
   "cell_type": "code",
   "execution_count": null,
   "metadata": {},
   "outputs": [],
   "source": [
    "matrix_a = [[3,6],[4,5]] # 리스트로 표현한 경우\n",
    "matrix_b = [(3,6),[4,5]] # 튜플로 표현한 경우\n",
    "matrix_c = [(0,0):3,(0,1):6,(1,0):4,(1,1):5]  # 딕셔너리로 표현한 경우"
   ]
  },
  {
   "cell_type": "markdown",
   "metadata": {},
   "source": [
    "#### 3.1 행렬의 연산 "
   ]
  },
  {
   "cell_type": "markdown",
   "metadata": {},
   "source": [
    "##### 3.1.1. 행렬의 가장 기본적인 연산은 덧셈과 뺄셈이다. 즉 행렬의 크기는 같아야 한다.\n",
    "##### 3.1.2. 인덱스가 같은 값끼리 연산이 일어난다.\n",
    "##### 3.1.3. 가장 쉬운 표현방법은 별표(*)와 zip() 함수를 활용하는 것 \n",
    "##### 3.1.4. 이때 핵심은 'zip함수를 어떻게 활용하느냐‘\n",
    "##### 3.1.5. 바깥에 있는 for문이 먼저 실행 "
   ]
  },
  {
   "cell_type": "code",
   "execution_count": 18,
   "metadata": {},
   "outputs": [
    {
     "name": "stdout",
     "output_type": "stream",
     "text": [
      "[[8, 14], [10, 12]]\n"
     ]
    }
   ],
   "source": [
    "matrix_a = [[3,6],[4,5]]\n",
    "matrix_b = [[5,8],[6,7]]\n",
    "# 바깥에 있는 for문이 먼저 실행됨\n",
    "# zip함수를통해 [3,6],[5,8]이 튜플로 묶임\n",
    "result = [[sum(row) for row in zip(*t)]for t in zip(matrix_a,matrix_b)]\n",
    "print(result)"
   ]
  },
  {
   "cell_type": "markdown",
   "metadata": {},
   "source": [
    "#### 3.2 행렬의 동치"
   ]
  },
  {
   "cell_type": "markdown",
   "metadata": {},
   "source": [
    "##### 3.2.1. 2개의 행렬이 서로 같은지를 나타내는 표현\n",
    "##### 3.2.2. 두 행렬이 ‘A=B'이기 위한 조건을 나타낸 것 \n",
    "##### 3.2.3. 동치임을 확인하는 코드는 불린형을 활용\n",
    "##### 3.2.4. 코드의 핵심은 요소의 값을 비교하는 row[0] == value 코드 "
   ]
  },
  {
   "cell_type": "code",
   "execution_count": 21,
   "metadata": {},
   "outputs": [
    {
     "data": {
      "text/plain": [
       "True"
      ]
     },
     "execution_count": 21,
     "metadata": {},
     "output_type": "execute_result"
    }
   ],
   "source": [
    "matrix_a = [[1,1],[1,1]]\n",
    "matrix_b = [[1,1],[1,1]]\n",
    "all([row[0] == value for t in zip(matrix_a,matrix_b) for row in zip(*t) for value in row])\n"
   ]
  },
  {
   "cell_type": "code",
   "execution_count": 22,
   "metadata": {},
   "outputs": [
    {
     "data": {
      "text/plain": [
       "True"
      ]
     },
     "execution_count": 22,
     "metadata": {},
     "output_type": "execute_result"
    }
   ],
   "source": [
    "matrix_b = [[5,8],[6,7]]\n",
    "all([all([row[0] == value for value in row]for t in zip(matrix_a,matrix_b) for row in zip(*t))])"
   ]
  },
  {
   "cell_type": "code",
   "execution_count": 23,
   "metadata": {},
   "outputs": [
    {
     "name": "stdout",
     "output_type": "stream",
     "text": [
      "True\n",
      "False\n"
     ]
    }
   ],
   "source": [
    "#행렬의 동치 (일치여부를 불린형으로 출력)\n",
    "matrix_a = [[1,1],[1,1]]\n",
    "matrix_b = [[1,1],[1,1]]\n",
    "print(all([row[0] == value for t in zip(matrix_a,matrix_b) for row in zip(*t) for value in row]))\n",
    "matrix_b = [[5,8],[6,7]]\n",
    "print(all([all([row[0] == value for value in row]) for t in zip(matrix_a,matrix_b) for row in zip(*t)]))"
   ]
  },
  {
   "cell_type": "code",
   "execution_count": 25,
   "metadata": {},
   "outputs": [
    {
     "name": "stdout",
     "output_type": "stream",
     "text": [
      "False\n",
      "True\n",
      "True\n",
      "False\n"
     ]
    }
   ],
   "source": [
    "print(any([False,False,False]))# 거짓\n",
    "print(any([False,True,False]))# 참\n",
    "print(all([True,True,True])) # 참\n",
    "print(all([False,True,False])) #거짓"
   ]
  },
  {
   "cell_type": "markdown",
   "metadata": {},
   "source": [
    "#### 3.3 전치행렬"
   ]
  },
  {
   "cell_type": "markdown",
   "metadata": {},
   "source": [
    "#### 3.3.1. 주어진 m x n의 행렬에서 행과 열을 바꾸어 만든 행렬\n",
    "#### 3.3.2. 행과 열의 값을 변경\n",
    "#### 3.3.3. zip함수로 각 행의 같은 위치의 인덱스값을 추출 후 이 값으로 리스트를 구성\n",
    "#### 3.3.4. 아래의 코드를 보자 "
   ]
  },
  {
   "cell_type": "code",
   "execution_count": 26,
   "metadata": {},
   "outputs": [
    {
     "name": "stdout",
     "output_type": "stream",
     "text": [
      "[[1, 4], [2, 5], [3, 6]]\n"
     ]
    }
   ],
   "source": [
    "\n",
    "matrix_a = [[1,2,3],[4,5,6]]\n",
    "result = [[element for element in t] for t in zip(*matrix_a)] \n",
    "# 이코드의 핵심은 for t in zip(*matrix_a)\n",
    "# 리스트를 다음과 같이 언패킹 (zip([1,2,3],[4,5,6]))\n",
    "# 언패킹한 상태에서 zip() 함수를 사용하면 같은 위치의 값들을 t로 할당 할 수 있음\n",
    "print(result)"
   ]
  },
  {
   "cell_type": "markdown",
   "metadata": {},
   "source": [
    "#### 3.4 행렬의 곱셈"
   ]
  },
  {
   "cell_type": "markdown",
   "metadata": {},
   "source": [
    "#### 3.4.1. 앞 행렬의 열과 뒤 행렬의 행을 선형 결합 하면됨\n",
    "#### 3.4.2. 앞 행렬의 열과 뒤 행렬의 행의 크기가 같아야 함\n",
    "#### 3.4.3. 한 행렬에서는 열의 값을 다른 행렬에서는 행의 값을 추출하여 곱하는 코드로 구성 "
   ]
  },
  {
   "cell_type": "code",
   "execution_count": 27,
   "metadata": {},
   "outputs": [
    {
     "name": "stdout",
     "output_type": "stream",
     "text": [
      "[[5, 8], [5, 6]]\n"
     ]
    }
   ],
   "source": [
    "matrix_a = [[1,1,2],[2,1,1]]\n",
    "matrix_b = [[1,1],[2,1],[1,3]]\n",
    "result = [[sum(a*b for a,b in zip(row_a,column_b))for column_b in \n",
    "           zip(*matrix_b)]for row_a in matrix_a]\n",
    "# sum(a*b for a,b in zip(row_a,column_b))로 행과 열에서 같은 위치의 인덱스 값을 뽑음\n",
    "# for column_b in zip(*matrix_b)에서는 열값이 뽑힘\n",
    "# for row_a in matrix_a에서는 행의 값이 뽑힘 \n",
    "print(result)"
   ]
  }
 ],
 "metadata": {
  "kernelspec": {
   "display_name": "Python 3",
   "language": "python",
   "name": "python3"
  },
  "language_info": {
   "codemirror_mode": {
    "name": "ipython",
    "version": 3
   },
   "file_extension": ".py",
   "mimetype": "text/x-python",
   "name": "python",
   "nbconvert_exporter": "python",
   "pygments_lexer": "ipython3",
   "version": "3.6.5"
  }
 },
 "nbformat": 4,
 "nbformat_minor": 2
}
