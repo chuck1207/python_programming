{
 "cells": [
  {
   "cell_type": "markdown",
   "metadata": {},
   "source": [
    "# 01. 다음 코드를 람다 함수 형태로 수정할때, 알맞은 코드를 작성하시오"
   ]
  },
  {
   "cell_type": "code",
   "execution_count": 1,
   "metadata": {},
   "outputs": [
    {
     "name": "stdout",
     "output_type": "stream",
     "text": [
      "64\n"
     ]
    }
   ],
   "source": [
    "def f(x,y):\n",
    "    return x**y\n",
    "\n",
    "# 결과값 출력\n",
    "print(f(4,3))"
   ]
  },
  {
   "cell_type": "code",
   "execution_count": 3,
   "metadata": {},
   "outputs": [
    {
     "name": "stdout",
     "output_type": "stream",
     "text": [
      "64\n"
     ]
    }
   ],
   "source": [
    "f = lambda x,y: x**y\n",
    "print(f(4,3))"
   ]
  },
  {
   "cell_type": "markdown",
   "metadata": {},
   "source": [
    "# 02. 다음과 같이 리스트 컴프리헨션으로 작성된 코드를 람다 함수와 map()함수를 사용하여 표현하시오"
   ]
  },
  {
   "cell_type": "code",
   "execution_count": 5,
   "metadata": {},
   "outputs": [
    {
     "data": {
      "text/plain": [
       "[1, 4, 9, 16, 25]"
      ]
     },
     "execution_count": 5,
     "metadata": {},
     "output_type": "execute_result"
    }
   ],
   "source": [
    "ex = [1,2,3,4,5]\n",
    "[value **2 for value in ex]"
   ]
  },
  {
   "cell_type": "markdown",
   "metadata": {},
   "source": [
    "## map함수는 map(함수이름, 리스트 데이터)의 구조"
   ]
  },
  {
   "cell_type": "code",
   "execution_count": 7,
   "metadata": {},
   "outputs": [
    {
     "data": {
      "text/plain": [
       "[1, 4, 9, 16, 25]"
      ]
     },
     "execution_count": 7,
     "metadata": {},
     "output_type": "execute_result"
    }
   ],
   "source": [
    "# 람다함수로 제곱식을 생성\n",
    "f = lambda x: x**2\n",
    "# map함수를 이용하여 예제와 같은 결과값을 출력\n",
    "list(map(f,ex))"
   ]
  },
  {
   "cell_type": "markdown",
   "metadata": {},
   "source": [
    "# 03. 팩토리얼을 계산하는 코드를 람다 함수와 reduce함수를 사용하여 표현하시오"
   ]
  },
  {
   "cell_type": "code",
   "execution_count": 13,
   "metadata": {},
   "outputs": [
    {
     "data": {
      "text/plain": [
       "120"
      ]
     },
     "execution_count": 13,
     "metadata": {},
     "output_type": "execute_result"
    }
   ],
   "source": [
    "# 팩토리얼은 1부터 n까지의 곱을 계산 이를 람다함수로 표현하면\n",
    "from functools import reduce\n",
    "x = 5\n",
    "reduce(lambda x,y: x*y,list(range(x,0,-1)))"
   ]
  },
  {
   "cell_type": "markdown",
   "metadata": {},
   "source": [
    "# 04. 다음 코드를 각각 실행하면 서로 다른 결과가 나온다. 그 이유는? 위의것은 언패킹되었음 "
   ]
  },
  {
   "cell_type": "code",
   "execution_count": 14,
   "metadata": {},
   "outputs": [
    {
     "name": "stdout",
     "output_type": "stream",
     "text": [
      "1 2 3\n",
      "[1, 2, 3]\n"
     ]
    }
   ],
   "source": [
    "a = [1,2,3]\n",
    "print(*a)\n",
    "print(a)"
   ]
  },
  {
   "cell_type": "markdown",
   "metadata": {},
   "source": [
    "# 08 (5,[1,2,3,4])의 값을 가지고 하나의 스칼라 값을 벡터에 곱하는 코드를 작성하시오 "
   ]
  },
  {
   "cell_type": "code",
   "execution_count": 41,
   "metadata": {},
   "outputs": [
    {
     "name": "stdout",
     "output_type": "stream",
     "text": [
      "[5, 10, 15, 20]\n"
     ]
    }
   ],
   "source": [
    "def scalar_vector_product(x,y):\n",
    "    result = []\n",
    "    for i in y:\n",
    "        result.append(x*i)\n",
    "    print(result)\n",
    "scalar_vector_product(5,[1,2,3,4])"
   ]
  },
  {
   "cell_type": "code",
   "execution_count": 43,
   "metadata": {},
   "outputs": [
    {
     "name": "stdout",
     "output_type": "stream",
     "text": [
      "[[8, 14], [10, 12], [11, 13]]\n"
     ]
    }
   ],
   "source": [
    "matrix_a = [[3,6],[4,5],[6,7]]\n",
    "matrix_b = [[5,8],[6,7],[5,6]]\n",
    "result = [[sum(row) for row in zip(*t)] for t in zip(matrix_a,matrix_b)]\n",
    "print(result)"
   ]
  },
  {
   "cell_type": "markdown",
   "metadata": {},
   "source": [
    "# 10. 두개 이상의 벡터를 빼는 코드를 작성하시오"
   ]
  },
  {
   "cell_type": "code",
   "execution_count": 59,
   "metadata": {},
   "outputs": [
    {
     "name": "stdout",
     "output_type": "stream",
     "text": [
      "[-13, -6]\n"
     ]
    }
   ],
   "source": [
    "def vector_subtraction(*args):\n",
    "    x,y,z = args\n",
    "    result = []\n",
    "    for i in range(len(x)):\n",
    "        result.append(x[i] - y[i] - z[i])\n",
    "    \n",
    "    print(result)\n",
    "    \n",
    "vector_subtraction([1,5],[10,4],[4,7])"
   ]
  }
 ],
 "metadata": {
  "kernelspec": {
   "display_name": "Python 3",
   "language": "python",
   "name": "python3"
  },
  "language_info": {
   "codemirror_mode": {
    "name": "ipython",
    "version": 3
   },
   "file_extension": ".py",
   "mimetype": "text/x-python",
   "name": "python",
   "nbconvert_exporter": "python",
   "pygments_lexer": "ipython3",
   "version": "3.6.5"
  }
 },
 "nbformat": 4,
 "nbformat_minor": 2
}
