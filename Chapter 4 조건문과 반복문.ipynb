{
 "cells": [
  {
   "cell_type": "markdown",
   "metadata": {},
   "source": [
    "# Chapter 04_조건문과 반복문"
   ]
  },
  {
   "cell_type": "markdown",
   "metadata": {},
   "source": [
    "## 01 조건문\n",
    "## 02 반복문\n",
    "## 03 조건문과 반복문 실습\n",
    "## 04 코드의 오류를 처리하는 방버\n",
    "## 연습문제"
   ]
  },
  {
   "cell_type": "markdown",
   "metadata": {},
   "source": [
    "## 01 조건문"
   ]
  },
  {
   "cell_type": "markdown",
   "metadata": {},
   "source": [
    "### 1. 조건문의 개념"
   ]
  },
  {
   "cell_type": "markdown",
   "metadata": {},
   "source": [
    "#### 1) 조건문은 조건에 따라 특정한 동작을 하도록 하는 프로그래밍 명령어\n",
    "#### 2) 조건문은 반드시 조건의 참과 거짓으로 구분\n",
    "#### 3) 파이썬에서는 조건문을 사용하기 위해 if,else, elif 등의 키워드를 사용\n"
   ]
  },
  {
   "cell_type": "markdown",
   "metadata": {},
   "source": [
    "### 2. if-else문 "
   ]
  },
  {
   "cell_type": "markdown",
   "metadata": {},
   "source": [
    "#### 1) if문의 문법은 다음과 같다\n",
    "#### 2) 이때 if문의 조건에는 참과 거짓을 판단할 수 있는 조건이 들어가야함\n",
    "#### 3) if문의 조건이 거짓일 경우 else문이 실행"
   ]
  },
  {
   "cell_type": "code",
   "execution_count": null,
   "metadata": {},
   "outputs": [],
   "source": [
    "if <조건>:\n",
    "    <수행명령1-1>\n",
    "    <수행명령1-2>\n",
    "else:\n",
    "    <수행명령>"
   ]
  },
  {
   "cell_type": "markdown",
   "metadata": {},
   "source": [
    "#### input()함수로 조건에 쓰일 변수를 입력받음\n",
    "#### 조건에 따라 명령 실행 "
   ]
  },
  {
   "cell_type": "code",
   "execution_count": 1,
   "metadata": {},
   "outputs": [
    {
     "name": "stdout",
     "output_type": "stream",
     "text": [
      "Tell me your age?\n",
      "24\n",
      "Welcome to the Club.\n"
     ]
    }
   ],
   "source": [
    "print(\"Tell me your age?\")\n",
    "myage = int(input())                    # 나이를 입력받아 myage 변수에 할당\n",
    "if myage < 30:                          # myage가 30 미만일 때\n",
    "    print(\"Welcome to the Club.\")\n",
    "else:                                   # myage가 30 이상일 때\n",
    "    print(\"Oh! No. You are not accepted.\")\n"
   ]
  },
  {
   "cell_type": "markdown",
   "metadata": {},
   "source": [
    "### 3. 조건의 판단 "
   ]
  },
  {
   "cell_type": "markdown",
   "metadata": {},
   "source": [
    "#### 3.1 비교연산자"
   ]
  },
  {
   "cell_type": "code",
   "execution_count": null,
   "metadata": {},
   "outputs": [],
   "source": [
    "x < y # ~보다 작음\n",
    "x > y # ~보다 큼\n",
    "x == y #x와 y가 같음\n",
    "x is y #x와 y의 메모리 주소가 같음\n",
    "x != y # x와 y가 같지않음\n",
    "x is not y #x와 y의 메모리 주소가 같지 않음\n",
    "x >= y #x가 y보다 크거나 같다\n",
    "x <= y #x가 y보다 작거나 같다"
   ]
  },
  {
   "cell_type": "markdown",
   "metadata": {},
   "source": [
    "#### 숫자의 메모리 주소의 경우 0~256까지는 같은 메모리 주소를 사용한다. \n",
    "#### 그러나 256이상부터는 같은 숫자더라도 다른 메모리 주소를 사용한다. "
   ]
  },
  {
   "cell_type": "code",
   "execution_count": 3,
   "metadata": {},
   "outputs": [
    {
     "name": "stdout",
     "output_type": "stream",
     "text": [
      "True\n",
      "True\n",
      "False\n",
      "True\n"
     ]
    }
   ],
   "source": [
    "a = 100\n",
    "b = 100\n",
    "\n",
    "print(a is b)\n",
    "\n",
    "print(a == b)\n",
    "\n",
    "c = 257\n",
    "d = 257\n",
    "\n",
    "print(c is d)\n",
    "print(c == d)"
   ]
  },
  {
   "cell_type": "markdown",
   "metadata": {},
   "source": [
    "#### 3.2 논리연산자"
   ]
  },
  {
   "cell_type": "markdown",
   "metadata": {},
   "source": [
    "#### and or not문을 사용해 조건을 확장 \n",
    "#### 구간을 설정할때 사용할 수 있다."
   ]
  },
  {
   "cell_type": "code",
   "execution_count": 4,
   "metadata": {},
   "outputs": [
    {
     "name": "stdout",
     "output_type": "stream",
     "text": [
      "False\n",
      "True\n",
      "False\n"
     ]
    }
   ],
   "source": [
    "a = 8\n",
    "b = 5\n",
    "print(a == 8 and b ==4)\n",
    "print(a>7 or b>7)\n",
    "print(not(a>7))\n",
    "\n"
   ]
  },
  {
   "cell_type": "markdown",
   "metadata": {},
   "source": [
    "### 4. if-elif-else문"
   ]
  },
  {
   "cell_type": "markdown",
   "metadata": {},
   "source": [
    "#### 아래 문장의 문제점은 무엇인가?\n",
    "#### 중복되는 구간이 있는 것이다. \n",
    "#### 그 결과 75를 입력했을때 C가 아닌 D가 출력되었다"
   ]
  },
  {
   "cell_type": "code",
   "execution_count": 5,
   "metadata": {},
   "outputs": [
    {
     "name": "stdout",
     "output_type": "stream",
     "text": [
      "Enter your score: 75\n",
      "D\n"
     ]
    }
   ],
   "source": [
    "score = int(input(\"Enter your score: \"))\n",
    "\n",
    "if score >= 90:\n",
    "    grade = 'A'\n",
    "if score >= 80:\n",
    "    grade = 'B'\n",
    "if score >= 70:\n",
    "    grade = 'C'\n",
    "if score >= 60:\n",
    "    grade = 'D'\n",
    "if score < 60:\n",
    "    grade = 'F'\n",
    "\n",
    "print(grade)\n"
   ]
  },
  {
   "cell_type": "markdown",
   "metadata": {},
   "source": [
    "#### 이러한 중복 문제를 해결하기 위해 elif를 사용한다. "
   ]
  },
  {
   "cell_type": "code",
   "execution_count": 6,
   "metadata": {},
   "outputs": [
    {
     "name": "stdout",
     "output_type": "stream",
     "text": [
      "Enter your score: 75\n",
      "C\n"
     ]
    }
   ],
   "source": [
    "score = int(input(\"Enter your score: \"))\n",
    "\n",
    "if score >= 90: grade = 'A'         # 90 이상일 경우 A\n",
    "elif score >= 80: grade = 'B'       # 80 이상일 경우 B\n",
    "elif score >= 70: grade = 'C'       # 70 이상일 경우 C\n",
    "elif score >= 60: grade = 'D'       # 60 이상일 경우 D\n",
    "else: grade = 'F'                   # 모든 조건에 만족하지 못할 경우 F\n",
    "\n",
    "print(grade)"
   ]
  },
  {
   "cell_type": "markdown",
   "metadata": {},
   "source": [
    "## 02 반복문 "
   ]
  },
  {
   "cell_type": "markdown",
   "metadata": {},
   "source": [
    "### 1.반복문의 개념 "
   ]
  },
  {
   "cell_type": "markdown",
   "metadata": {},
   "source": [
    "#### 문장을 반복해 만드는 것, 정해진 동작을 반복적으로 수행할때 내리는 명령어\n",
    "#### 파이썬의 반복문은 for와 while 등의 명령 키워드를 사용"
   ]
  },
  {
   "cell_type": "markdown",
   "metadata": {},
   "source": [
    "### 2. for문"
   ]
  },
  {
   "cell_type": "code",
   "execution_count": 7,
   "metadata": {},
   "outputs": [
    {
     "name": "stdout",
     "output_type": "stream",
     "text": [
      "hello\n",
      "hello\n",
      "hello\n",
      "hello\n",
      "hello\n"
     ]
    }
   ],
   "source": [
    "for looper in[1,2,3,4,5]:\n",
    "    print(\"hello\")"
   ]
  },
  {
   "cell_type": "markdown",
   "metadata": {},
   "source": [
    "#### 범위를 지정해줄 때는 range함수를 사용하자"
   ]
  },
  {
   "cell_type": "code",
   "execution_count": 9,
   "metadata": {},
   "outputs": [
    {
     "name": "stdout",
     "output_type": "stream",
     "text": [
      "hello\n",
      "hello\n",
      "hello\n",
      "hello\n",
      "hello\n",
      "hello\n"
     ]
    }
   ],
   "source": [
    "for looper in range(6):\n",
    "    print(\"hello\")"
   ]
  },
  {
   "cell_type": "markdown",
   "metadata": {},
   "source": [
    "#### 즉, for문의 기본 구조는 아래와 같다."
   ]
  },
  {
   "cell_type": "markdown",
   "metadata": {},
   "source": [
    "for 변수 in range(시작번호, 마지막번호, 증가값)"
   ]
  },
  {
   "cell_type": "markdown",
   "metadata": {},
   "source": [
    "#### 문자열도 리스트와 같은 시퀀스데이터 이므로 각 문자를 변수에 할당하여 화면에 출력한다."
   ]
  },
  {
   "cell_type": "code",
   "execution_count": 10,
   "metadata": {},
   "outputs": [
    {
     "name": "stdout",
     "output_type": "stream",
     "text": [
      "L\n",
      "o\n",
      "v\n",
      "e\n"
     ]
    }
   ],
   "source": [
    "for i in \"Love\":\n",
    "    print(i)"
   ]
  },
  {
   "cell_type": "markdown",
   "metadata": {},
   "source": [
    "### 3. while문"
   ]
  },
  {
   "cell_type": "markdown",
   "metadata": {},
   "source": [
    "#### while문은 어떤 조건이 만족하는 동안 명령을 수행하고 조건이 거짓일 경우 수행하지 않는 구문\n",
    "#### if문과 반복문이 결합된 형태\n",
    "#### 무한 루프에 빠질 수 있으므로 조심할 것 "
   ]
  },
  {
   "cell_type": "code",
   "execution_count": 11,
   "metadata": {},
   "outputs": [
    {
     "name": "stdout",
     "output_type": "stream",
     "text": [
      "1\n",
      "2\n",
      "3\n",
      "4\n",
      "5\n",
      "6\n",
      "7\n",
      "8\n",
      "9\n"
     ]
    }
   ],
   "source": [
    "i = 1\n",
    "while i < 10:\n",
    "    print(i)\n",
    "    i = i+1"
   ]
  },
  {
   "cell_type": "markdown",
   "metadata": {},
   "source": [
    "### 4.반복문의 제어"
   ]
  },
  {
   "cell_type": "markdown",
   "metadata": {},
   "source": [
    "#### 4.1 break문"
   ]
  },
  {
   "cell_type": "markdown",
   "metadata": {},
   "source": [
    "#### 반복문을 논리적으로 종료하는 방법 "
   ]
  },
  {
   "cell_type": "code",
   "execution_count": 14,
   "metadata": {},
   "outputs": [
    {
     "name": "stdout",
     "output_type": "stream",
     "text": [
      "0\n",
      "1\n",
      "2\n",
      "3\n",
      "4\n",
      "End of Program\n"
     ]
    }
   ],
   "source": [
    "for i in range(10):\n",
    "    if i == 5: \n",
    "        break\n",
    "    print(i)\n",
    "print(\"End of Program\")"
   ]
  },
  {
   "cell_type": "markdown",
   "metadata": {},
   "source": [
    "#### 4.2 continue문 "
   ]
  },
  {
   "cell_type": "markdown",
   "metadata": {},
   "source": [
    "#### 특정 조건에서 남은 명령을 건너뛰고 다음 반복문을 수행하는 것 "
   ]
  },
  {
   "cell_type": "code",
   "execution_count": 15,
   "metadata": {},
   "outputs": [
    {
     "name": "stdout",
     "output_type": "stream",
     "text": [
      "0\n",
      "1\n",
      "2\n",
      "3\n",
      "4\n",
      "6\n",
      "7\n",
      "8\n",
      "9\n",
      "End of Program\n"
     ]
    }
   ],
   "source": [
    "for i in range(10):\n",
    "    if i == 5:\n",
    "        continue\n",
    "    print(i)\n",
    "print(\"End of Program\")"
   ]
  },
  {
   "cell_type": "markdown",
   "metadata": {},
   "source": [
    "#### 4.3 else문 "
   ]
  },
  {
   "cell_type": "markdown",
   "metadata": {},
   "source": [
    "#### 어떤 조건이 완전히 끝났을때 한번 더 실행해주는 역할을 한다. "
   ]
  },
  {
   "cell_type": "code",
   "execution_count": 16,
   "metadata": {},
   "outputs": [
    {
     "name": "stdout",
     "output_type": "stream",
     "text": [
      "0\n",
      "1\n",
      "2\n",
      "3\n",
      "4\n",
      "5\n",
      "6\n",
      "7\n",
      "8\n",
      "9\n",
      "End of Program\n"
     ]
    }
   ],
   "source": [
    "for i in range(10):\n",
    "    print(i)\n",
    "else:\n",
    "    print(\"End of Program\")"
   ]
  },
  {
   "cell_type": "markdown",
   "metadata": {},
   "source": [
    "## 03 조건문과 반복문 실습"
   ]
  },
  {
   "cell_type": "markdown",
   "metadata": {},
   "source": [
    "### 1. 문자열 역순 출력"
   ]
  },
  {
   "cell_type": "code",
   "execution_count": 18,
   "metadata": {},
   "outputs": [
    {
     "name": "stdout",
     "output_type": "stream",
     "text": [
      "uoy evol I\n"
     ]
    }
   ],
   "source": [
    "sentence =\"I love you\"\n",
    "reverse_sentence = \"\"#결과값이 들어갈 변수를 생성\n",
    "for char in sentence:\n",
    "    reverse_sentence = char + reverse_sentence  \n",
    "# 0 -> I\n",
    "# 1 ->  I\n",
    "# 2 -> l I \n",
    "# 3 -> ol I\n",
    "# ... \n",
    "# 9 -> ouy evol I\n",
    "print(reverse_sentence)"
   ]
  },
  {
   "cell_type": "markdown",
   "metadata": {},
   "source": [
    "### 2. 십진수를 이진수로 변환"
   ]
  },
  {
   "cell_type": "code",
   "execution_count": 21,
   "metadata": {},
   "outputs": [
    {
     "name": "stdout",
     "output_type": "stream",
     "text": [
      "1010\n"
     ]
    }
   ],
   "source": [
    "decimal = 10 \n",
    "result = '' #결과 변수 생성\n",
    "while(decimal > 0):\n",
    "    remainder = decimal % 2 # 나머지로 이진수의 자릿수를 채워준다.\n",
    "    decimal = decimal //2 # demical의 몫을 다시 demical에 할당\n",
    "    result = str(remainder) + result #문자열의 합을 이용해 결과변수를 채워줌\n",
    "print(result)"
   ]
  },
  {
   "cell_type": "markdown",
   "metadata": {},
   "source": [
    "### 응용문제 십진수를 16진수로 변환"
   ]
  },
  {
   "cell_type": "markdown",
   "metadata": {},
   "source": [
    "#### 16진수는 0~9를 이용하고 10~15까지는 a,b,c,d,e,f를 이용한다."
   ]
  },
  {
   "cell_type": "code",
   "execution_count": 22,
   "metadata": {},
   "outputs": [
    {
     "name": "stdout",
     "output_type": "stream",
     "text": [
      "16진수로 변환할 수치를 입력해주세요31\n",
      "1f\n"
     ]
    }
   ],
   "source": [
    "\n",
    "decimal = int(input(\"16진수로 변환할 수치를 입력해주세요\"))\n",
    "result = '' #변환할 수치를 입력할 변수 \n",
    "while(decimal > 0): # 변환할 값이 0보다 크면 반복\n",
    "    remainder = decimal % 16 # 16으로 나눈 나머지를 remainder에 할당\n",
    "    decimal = decimal // 16 # 몫을 decimal에 할당\n",
    "    if remainder >= 10: #만약 remainder가 10보다 크다면\n",
    "        remainder = remainder - 9 #remainder에서 9를 빼주고\n",
    "        if remainder == 1: # 그 값에 따라 a,b,c,d,e,f를 할당\n",
    "            remainder = 'a'\n",
    "        elif remainder == 2:\n",
    "            remainder = 'b'\n",
    "        elif remainder == 3:\n",
    "            remainder = 'c'\n",
    "        elif remainder == 4:\n",
    "            remainder = 'd'\n",
    "        elif remainder == 5:\n",
    "            remainder = 'e'\n",
    "        elif remainder == 6:\n",
    "            remainder = 'f'\n",
    "    result = str(remainder) + result # 그 결과를 result에 입력 \n",
    "print(result)#최종 결과 출력\n"
   ]
  },
  {
   "cell_type": "markdown",
   "metadata": {},
   "source": [
    "## 04 코드의 오류를 처리하는 방법"
   ]
  },
  {
   "cell_type": "markdown",
   "metadata": {},
   "source": [
    "### 1. 프로그래밍에서 오류를 버그라고 하고 프로그램의 잘못을 찾아내고 고치는 것을 디버깅이라고 한다. "
   ]
  },
  {
   "cell_type": "markdown",
   "metadata": {},
   "source": [
    "#### 2. 오류의 종류와 해결방법"
   ]
  },
  {
   "cell_type": "markdown",
   "metadata": {},
   "source": [
    "#### 2.1 문법적 오류 "
   ]
  },
  {
   "cell_type": "markdown",
   "metadata": {},
   "source": [
    "#### 인터프리터가 해석을 못해 코드 자체를 실행시키지 못하는 오류 \n",
    "#### 비교적 쉬운 유형의 오류로 들여쓰기 오류와 오탈자로 인한 오류가 있다. "
   ]
  },
  {
   "cell_type": "markdown",
   "metadata": {},
   "source": [
    "#### 2.2 논리적 오류 "
   ]
  },
  {
   "cell_type": "markdown",
   "metadata": {},
   "source": [
    "#### 코드를 제대로 작성했다고 생각했음에도, 원하는 결과가 나오지 않는 경우가 있다.\n",
    "#### 이를 해결하기 위해서는 변수들에 print()함수를 활용하여 값을 확인하는 것 \n",
    "#### 그 외에 if __name__ = '__main__'을 넣는 방법도 있다. \n",
    "#### if __name__ = '__main__'를 넣고 실행하면 실행되지만 모듈로 이용할때는 실행되지 않는다."
   ]
  },
  {
   "cell_type": "code",
   "execution_count": 2,
   "metadata": {},
   "outputs": [
    {
     "name": "stdout",
     "output_type": "stream",
     "text": [
      "밑변의 길이는? 20\n",
      "윗변의 길이는? 40\n",
      "높이는? 1\n",
      "넓이는: 30.0\n"
     ]
    }
   ],
   "source": [
    "def addition(x, y):\n",
    "    return x + y\n",
    "\n",
    "def divided_by_2(x):\n",
    "    return x / 2\n",
    "\n",
    "def main():\n",
    "    base_line = float(input(\"밑변의 길이는? \"))\n",
    "    upper_edge = float(input(\"윗변의 길이는? \"))\n",
    "    height = float(input(\"높이는? \"))\n",
    "\n",
    "    print(\"넓이는:\", divided_by_2(addition(base_line, upper_edge) * height))\n",
    "\n",
    "if __name__ == \"__main__\":\n",
    "    main()\n"
   ]
  },
  {
   "cell_type": "markdown",
   "metadata": {},
   "source": [
    "### 연습문제"
   ]
  },
  {
   "cell_type": "markdown",
   "metadata": {},
   "source": [
    "#### 1번"
   ]
  },
  {
   "cell_type": "markdown",
   "metadata": {},
   "source": [
    "#### 사용자로부터 정수를 입력받아 0부터 입력받은 정수까지의 수 중 짝수만 출력해주는 프로그램을 작성"
   ]
  },
  {
   "cell_type": "code",
   "execution_count": 24,
   "metadata": {},
   "outputs": [
    {
     "name": "stdout",
     "output_type": "stream",
     "text": [
      "정수를 입력하세요 :20\n",
      "2\n",
      "4\n",
      "6\n",
      "8\n",
      "10\n",
      "12\n",
      "14\n",
      "16\n",
      "18\n",
      "20\n"
     ]
    }
   ],
   "source": [
    "# 정수를 입력받아 n에 할당\n",
    "n = int(input(\"정수를 입력하세요 :\"))\n",
    "for i in range(n+1): # 범위를 n + 1까지 할당\n",
    "    if i%2 == 0 and i>=1: #조건문을 활용하여 2로 나누었을때 나머지가 0이고 0보다 큰 수로 조건을 제시\n",
    "        print(i) # 해당하는 변수 i만 출력"
   ]
  },
  {
   "cell_type": "markdown",
   "metadata": {},
   "source": [
    "### 문제 2"
   ]
  },
  {
   "cell_type": "markdown",
   "metadata": {},
   "source": [
    "#### 사용자로부터 정수를 6개 입력받아 세번째로 큰 수를 찾는 프로그램을 작성하시오"
   ]
  },
  {
   "cell_type": "code",
   "execution_count": 25,
   "metadata": {},
   "outputs": [
    {
     "name": "stdout",
     "output_type": "stream",
     "text": [
      "1 번째 정수를 입력하세요\n",
      "10\n",
      "2 번째 정수를 입력하세요\n",
      "5\n",
      "3 번째 정수를 입력하세요\n",
      "4\n",
      "4 번째 정수를 입력하세요\n",
      "-7\n",
      "5 번째 정수를 입력하세요\n",
      "-2\n",
      "6 번째 정수를 입력하세요\n",
      "1\n",
      "3번째로 큰 정수는  1 입니다.\n"
     ]
    }
   ],
   "source": [
    "list1 = [ ]#비어있는 리스트를 하나 생성\n",
    "\n",
    "for i in range(6): #반복문을 이용하여 여러개의 input을 생성\n",
    "    print(i+1,\"번째 정수를 입력하세요\") #i의 범위는 0~5이므로 1을 더해주어 범위를 1~6으로 변경\n",
    "    n = int(input()) # 정수를 받아 n에 저장\n",
    "    list1.append(n) # 비어있는 리스트에 n을 추가\n",
    "list1.sort() #반복이 끝난 리스트를 정렬\n",
    "print(\"3번째로 큰 정수는 \", list1[2],\"입니다.\") #정렬한 리스트에서 3번째 정수를 출력\n"
   ]
  },
  {
   "cell_type": "markdown",
   "metadata": {},
   "source": [
    "### 문제3"
   ]
  },
  {
   "cell_type": "markdown",
   "metadata": {},
   "source": [
    "#### 3,6,9 가 들어간 숫자에 대괄호를 쳐주는 프로그램 작성 \n",
    "#### 5의 배수마다 줄바꿈을 실행 "
   ]
  },
  {
   "cell_type": "code",
   "execution_count": 28,
   "metadata": {},
   "outputs": [
    {
     "name": "stdout",
     "output_type": "stream",
     "text": [
      "숫자를 입력하세요 :50\n",
      "1 2 [3] 4 5 \n",
      "\n",
      "[6] 7 8 [9] 10 \n",
      "\n",
      "11 12 [13] 14 15 \n",
      "\n",
      "[16] 17 18 [19] 20 \n",
      "\n",
      "21 22 [23] 24 25 \n",
      "\n",
      "[26] 27 28 [29] [30] \n",
      "\n",
      "[31] [32] [33] [34] [35] \n",
      "\n",
      "[36] [37] [38] [39] 40 \n",
      "\n",
      "41 42 [43] 44 45 \n",
      "\n",
      "[46] 47 48 [49] 50 \n",
      "\n"
     ]
    }
   ],
   "source": [
    "# 범위를 설정하기 위해 input함수를 사용하여 할당\n",
    "n = int(input(\"숫자를 입력하세요 :\"))\n",
    "\n",
    "for i in range(1,1+n): #입력받은 범위를 정상적으로 설정하기 위해 범위를 1부터  n+1까지\n",
    "    if \"3\" in str(i) or \"6\" in str(i) or \"9\" in str(i): # if함수와 in을 활용하여 3,6,9가 들어있는 수에 대해 제어\n",
    "        print(\"[%d]\"%i, end = \" \") # 그 결과 나온 값에는 대괄호를 포함하여 출력하고 마지막에 줄바꿈이 아닌 띄어쓰기로 변경\n",
    "        if i % 5 == 0: # i가 5로 나누어 떨어질때마다\n",
    "            print(\"\\n\") # 줄바꿈 실행\n",
    "    else:# 그외에\n",
    "        print(i,end = \" \") # 값을 그냥 출력\n",
    "        if i % 5 == 0: #i가 5로 나누어 떨어질때마다\n",
    "            print(\"\\n\") # 줄바꿈 실행\n"
   ]
  }
 ],
 "metadata": {
  "kernelspec": {
   "display_name": "Python 3",
   "language": "python",
   "name": "python3"
  },
  "language_info": {
   "codemirror_mode": {
    "name": "ipython",
    "version": 3
   },
   "file_extension": ".py",
   "mimetype": "text/x-python",
   "name": "python",
   "nbconvert_exporter": "python",
   "pygments_lexer": "ipython3",
   "version": "3.6.5"
  }
 },
 "nbformat": 4,
 "nbformat_minor": 2
}
