{
 "cells": [
  {
   "cell_type": "markdown",
   "metadata": {},
   "source": [
    "# 2차원 평면에 그려진 도형(원, 사각형)을 나타내는 프로그램을 작성하려 합니다.\n",
    "# 아래 설명과 같이 3개의 클래스를 정의하고 4개의 도형 인스턴스를 생성하고 하나의 리스트에 담아 출력해주는 프로그램을 작성 "
   ]
  },
  {
   "cell_type": "markdown",
   "metadata": {},
   "source": [
    "# x,y: 도형의 중심좌표\n",
    "# width, height, radius : 도형의 가로, 세로, 반지름\n",
    "# description(): 도형의 정보를 출력해주는 메서드"
   ]
  },
  {
   "cell_type": "code",
   "execution_count": null,
   "metadata": {},
   "outputs": [],
   "source": [
    "# [실행화면]"
   ]
  },
  {
   "cell_type": "markdown",
   "metadata": {},
   "source": [
    "### Rectangle과 Circle 클래스는 Shape 클래스를 상속 \n",
    "### description() 메서드 재정의 \n",
    "### 다형성을 활용해 도형의 정보 출력 "
   ]
  },
  {
   "cell_type": "code",
   "execution_count": 14,
   "metadata": {},
   "outputs": [],
   "source": [
    "class Shape(object):\n",
    "    def __init__(self,x,y):\n",
    "        self.x = x # 도형 중심의 x좌표\n",
    "        self.y = y # 도형 중심의 y좌표\n",
    "\n",
    "    def description(self):\n",
    "        print(\"도형의 좌표 : %d, %d\"%(self.x,self.y))\n"
   ]
  },
  {
   "cell_type": "code",
   "execution_count": 35,
   "metadata": {},
   "outputs": [],
   "source": [
    "class Rectangle(Shape):\n",
    "    def __init__(self,x,y,width,height):\n",
    "        super().__init__(x,y)\n",
    "        self.width = width\n",
    "        self.height = height\n",
    "    \n",
    "    def description(self):\n",
    "        super().description()\n",
    "        print(\"도형 타입: 사각형\")\n",
    "        print(\"높이: %d ,너비: %d\" %(self.height,self.width))\n",
    "        print(\"넓이:\",self.height*self.width)\n",
    "        print(\"=================================\")"
   ]
  },
  {
   "cell_type": "code",
   "execution_count": 36,
   "metadata": {},
   "outputs": [],
   "source": [
    "class Circle(Shape):\n",
    "    def __init__(self,x,y,radius):\n",
    "        super().__init__(x,y)\n",
    "        self.radius = radius\n",
    "    \n",
    "    def description(self):\n",
    "        super().description()\n",
    "        print(\"도형 타입: 원\")\n",
    "        print(\"반지름: %d\" %(self.radius))\n",
    "        print(\"넓이:\",(self.radius**2)*3.14)\n",
    "        print(\"=================================\")"
   ]
  },
  {
   "cell_type": "code",
   "execution_count": 37,
   "metadata": {},
   "outputs": [
    {
     "name": "stdout",
     "output_type": "stream",
     "text": [
      "도형의 좌표 : 1, 2\n",
      "도형 타입: 사각형\n",
      "높이: 30 ,너비: 10\n",
      "넓이: 300\n",
      "=================================\n",
      "도형의 좌표 : 10, 15\n",
      "도형 타입: 사각형\n",
      "높이: 4 ,너비: 4\n",
      "넓이: 16\n",
      "=================================\n",
      "도형의 좌표 : 0, 0\n",
      "도형 타입: 원\n",
      "반지름: 5\n",
      "넓이: 78.5\n",
      "=================================\n",
      "도형의 좌표 : 6, 6\n",
      "도형 타입: 원\n",
      "반지름: 1\n",
      "넓이: 3.14\n",
      "=================================\n"
     ]
    }
   ],
   "source": [
    "rect1 = Rectangle(1,2,10,30)\n",
    "rect1.description()\n",
    "rect2 = Rectangle(10,15,4,4)\n",
    "rect2.description()\n",
    "cir1 = Circle(0,0,5)\n",
    "cir1.description()\n",
    "cir2 = Circle(6,6,1)\n",
    "cir2.description()"
   ]
  }
 ],
 "metadata": {
  "kernelspec": {
   "display_name": "Python 3",
   "language": "python",
   "name": "python3"
  },
  "language_info": {
   "codemirror_mode": {
    "name": "ipython",
    "version": 3
   },
   "file_extension": ".py",
   "mimetype": "text/x-python",
   "name": "python",
   "nbconvert_exporter": "python",
   "pygments_lexer": "ipython3",
   "version": "3.6.5"
  }
 },
 "nbformat": 4,
 "nbformat_minor": 2
}
